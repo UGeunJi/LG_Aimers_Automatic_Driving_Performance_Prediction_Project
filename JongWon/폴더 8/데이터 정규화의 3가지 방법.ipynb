{
 "cells": [
  {
   "cell_type": "markdown",
   "id": "fd510dcf-85b2-4396-858c-a14a37960c76",
   "metadata": {},
   "source": [
    "## Import"
   ]
  },
  {
   "cell_type": "code",
   "execution_count": 15,
   "id": "5c415d9d-1111-46ed-bc2d-849c75ab962a",
   "metadata": {},
   "outputs": [],
   "source": [
    "import pandas as pd\n",
    "import random\n",
    "import os\n",
    "import numpy as np\n",
    "\n",
    "from sklearn.linear_model import LinearRegression\n",
    "from sklearn.multioutput import MultiOutputRegressor\n"
   ]
  },
  {
   "cell_type": "code",
   "execution_count": 16,
   "id": "edae871a-b31b-4f06-bb88-0fd1f6660b13",
   "metadata": {},
   "outputs": [],
   "source": [
    "def seed_everything(seed):\n",
    "    random.seed(seed)\n",
    "    os.environ['PYTHONHASHSEED'] = str(seed)\n",
    "    np.random.seed(seed)\n",
    "seed_everything(42) # Seed 고정"
   ]
  },
  {
   "cell_type": "markdown",
   "id": "336f59e4",
   "metadata": {},
   "source": [
    "## 정규화 함수"
   ]
  },
  {
   "cell_type": "code",
   "execution_count": 17,
   "id": "83539818",
   "metadata": {},
   "outputs": [],
   "source": [
    "def mean_norm(df_input):# 평균정규화로 Pandas 데이터 프레임 정규화\n",
    "    return df_input.apply(lambda x: (x-x.mean())/ x.std(), axis=0)\n",
    "def minmax_norm(df_input):#최소-최대정규화로 Pandas 데이터 프레임 정규화\n",
    "    return (df_input - df_input.min()) / ( df_input.max() - df_input.min())\n",
    "def quantile_norm(df_input):#quantile 정규화로 Pandas 데이터 프레임 정규화\n",
    "    sorted_df = pd.DataFrame(np.sort(df_input.values,axis=0), index=df_input.index, columns=df_input.columns)\n",
    "    mean_df = sorted_df.mean(axis=1)\n",
    "    mean_df.index = np.arange(1, len(mean_df) + 1)\n",
    "    quantile_df =df_input.rank(method=\"min\").stack().astype(int).map(mean_df).unstack()\n",
    "    return(quantile_df)\n",
    "\n"
   ]
  },
  {
   "cell_type": "code",
   "execution_count": 18,
   "id": "ecfacbd3",
   "metadata": {},
   "outputs": [],
   "source": [
    "from sklearn import metrics \n",
    "def lg_nrmse(gt, preds):\n",
    "    # 각 Y Feature별 NRMSE 총합\n",
    "    # Y_01 ~ Y_08 까지 20% 가중치 부여\n",
    "    all_nrmse = []\n",
    "    for idx in range(0,14): # ignore 'ID'\n",
    "        rmse = metrics.mean_squared_error(gt[:,idx], preds[:,idx], squared=False)\n",
    "        nrmse = rmse/np.mean(np.abs(gt[:,idx]))\n",
    "        all_nrmse.append(nrmse)\n",
    "    score = 1.2 * np.sum(all_nrmse[:8]) + 1.0 * np.sum(all_nrmse[8:14])\n",
    "    return score"
   ]
  },
  {
   "cell_type": "markdown",
   "id": "18003e8e-4227-4e98-98de-0861ba8dc6cc",
   "metadata": {},
   "source": [
    "## Data Load\n",
    "-평균정규화로 Pandas 데이터 프레임 정규화"
   ]
  },
  {
   "cell_type": "code",
   "execution_count": 57,
   "id": "ee76c413-001b-475e-9d1c-6662d25d2db2",
   "metadata": {},
   "outputs": [],
   "source": [
    "\n",
    "train_df_1 = pd.read_csv('./train.csv')"
   ]
  },
  {
   "cell_type": "code",
   "execution_count": 58,
   "id": "b1aabb51",
   "metadata": {},
   "outputs": [],
   "source": [
    "from sklearn.model_selection import train_test_split\n",
    "train_df, valid_df = train_test_split(train_df_1, train_size=0.8)"
   ]
  },
  {
   "cell_type": "code",
   "execution_count": 59,
   "id": "858971cb",
   "metadata": {},
   "outputs": [],
   "source": [
    "train_x = mean_norm(train_df.filter(regex='X')).dropna(axis=1) # Input : X Featrue\n",
    "train_y = train_df.filter(regex='Y') # Output : Y Feature\n",
    "\n",
    "valid_x = mean_norm(valid_df.filter(regex='X')).dropna(axis=1) # Input : X Featrue\n",
    "valid_y = valid_df.filter(regex='Y') # Output : Y Feature"
   ]
  },
  {
   "cell_type": "markdown",
   "id": "d8ddc03e-78a5-4ffe-acdb-7c97e9b5fe09",
   "metadata": {},
   "source": [
    "## xgb Model Fit"
   ]
  },
  {
   "cell_type": "code",
   "execution_count": 60,
   "id": "e1ebf764",
   "metadata": {},
   "outputs": [
    {
     "name": "stdout",
     "output_type": "stream",
     "text": [
      "------현재 모델 MultiOutputRegressor(estimator=XGBRegressor(base_score=None, booster=None,\n",
      "                                            callbacks=None,\n",
      "                                            colsample_bylevel=None,\n",
      "                                            colsample_bynode=None,\n",
      "                                            colsample_bytree=1,\n",
      "                                            early_stopping_rounds=None,\n",
      "                                            enable_categorical=False,\n",
      "                                            eval_metric=None, gamma=0,\n",
      "                                            gpu_id=None, grow_policy=None,\n",
      "                                            importance_type=None,\n",
      "                                            interaction_constraints=None,\n",
      "                                            learning_rate=0.08, max_bin=None,\n",
      "                                            max_cat_to_onehot=None,\n",
      "                                            max_delta_step=None, max_depth=7,\n",
      "                                            max_leaves=None,\n",
      "                                            min_child_weight=None, missing=nan,\n",
      "                                            monotone_constraints=None,\n",
      "                                            n_estimators=100, n_jobs=None,\n",
      "                                            num_parallel_tree=None,\n",
      "                                            predictor=None, random_state=None,\n",
      "                                            reg_alpha=None, reg_lambda=None, ...)) -----리더보드 스코어   1.945967605135608\n",
      "Done.\n"
     ]
    }
   ],
   "source": [
    "import xgboost as xgb\n",
    "XGB = MultiOutputRegressor(xgb.XGBRegressor(n_estimators=100, learning_rate=0.08, gamma = 0, subsample=0.75, colsample_bytree = 1, max_depth=7)).fit(train_x, train_y)\n",
    "valid_preds = XGB.predict(valid_x)\n",
    "score = lg_nrmse(valid_y.values,valid_preds)\n",
    "\n",
    "print(\"------현재 모델\",XGB,'-----리더보드 스코어  ',score)\n",
    "print('Done.')"
   ]
  },
  {
   "cell_type": "markdown",
   "id": "4da35c55",
   "metadata": {},
   "source": [
    "## Data Load\n",
    "- 최소-최대정규화로 Pandas 데이터 프레임 정규화"
   ]
  },
  {
   "cell_type": "code",
   "execution_count": 61,
   "id": "0f397a40",
   "metadata": {},
   "outputs": [],
   "source": [
    "train_x = minmax_norm(train_df.filter(regex='X')).dropna(axis=1) # Input : X Featrue\n",
    "train_y = train_df.filter(regex='Y') # Output : Y Feature\n",
    "\n",
    "valid_x = minmax_norm(valid_df.filter(regex='X')).dropna(axis=1) # Input : X Featrue\n",
    "valid_y = valid_df.filter(regex='Y') # Output : Y Feature"
   ]
  },
  {
   "cell_type": "markdown",
   "id": "e3269d46",
   "metadata": {},
   "source": [
    "## xgb Model Fit"
   ]
  },
  {
   "cell_type": "code",
   "execution_count": 62,
   "id": "ba44372d",
   "metadata": {},
   "outputs": [
    {
     "name": "stdout",
     "output_type": "stream",
     "text": [
      "------현재 모델 MultiOutputRegressor(estimator=XGBRegressor(base_score=None, booster=None,\n",
      "                                            callbacks=None,\n",
      "                                            colsample_bylevel=None,\n",
      "                                            colsample_bynode=None,\n",
      "                                            colsample_bytree=1,\n",
      "                                            early_stopping_rounds=None,\n",
      "                                            enable_categorical=False,\n",
      "                                            eval_metric=None, gamma=0,\n",
      "                                            gpu_id=None, grow_policy=None,\n",
      "                                            importance_type=None,\n",
      "                                            interaction_constraints=None,\n",
      "                                            learning_rate=0.08, max_bin=None,\n",
      "                                            max_cat_to_onehot=None,\n",
      "                                            max_delta_step=None, max_depth=7,\n",
      "                                            max_leaves=None,\n",
      "                                            min_child_weight=None, missing=nan,\n",
      "                                            monotone_constraints=None,\n",
      "                                            n_estimators=100, n_jobs=None,\n",
      "                                            num_parallel_tree=None,\n",
      "                                            predictor=None, random_state=None,\n",
      "                                            reg_alpha=None, reg_lambda=None, ...)) -----리더보드 스코어   2.3028325886032235\n",
      "Done.\n"
     ]
    }
   ],
   "source": [
    "import xgboost as xgb\n",
    "XGB = MultiOutputRegressor(xgb.XGBRegressor(n_estimators=100, learning_rate=0.08, gamma = 0, subsample=0.75, colsample_bytree = 1, max_depth=7)).fit(train_x, train_y)\n",
    "valid_preds = XGB.predict(valid_x)\n",
    "score = lg_nrmse(valid_y.values,valid_preds)\n",
    "\n",
    "print(\"------현재 모델\",XGB,'-----리더보드 스코어  ',score)\n",
    "print('Done.')"
   ]
  },
  {
   "cell_type": "markdown",
   "id": "6b5d8773",
   "metadata": {},
   "source": [
    "## Data Load\n",
    "- quantile 정규화로 Pandas 데이터 프레임 정규화"
   ]
  },
  {
   "cell_type": "code",
   "execution_count": 63,
   "id": "dab7806b",
   "metadata": {},
   "outputs": [],
   "source": [
    "train_x = quantile_norm(train_df.filter(regex='X')).dropna(axis=1) # Input : X Featrue\n",
    "train_y = train_df.filter(regex='Y') # Output : Y Feature\n",
    "\n",
    "valid_x = quantile_norm(valid_df.filter(regex='X')).dropna(axis=1) # Input : X Featrue\n",
    "valid_y = valid_df.filter(regex='Y') # Output : Y Feature"
   ]
  },
  {
   "cell_type": "markdown",
   "id": "08052237",
   "metadata": {},
   "source": [
    "## xgb Model Fit"
   ]
  },
  {
   "cell_type": "code",
   "execution_count": 64,
   "id": "1b1722c9",
   "metadata": {},
   "outputs": [
    {
     "name": "stdout",
     "output_type": "stream",
     "text": [
      "------현재 모델 MultiOutputRegressor(estimator=XGBRegressor(base_score=None, booster=None,\n",
      "                                            callbacks=None,\n",
      "                                            colsample_bylevel=None,\n",
      "                                            colsample_bynode=None,\n",
      "                                            colsample_bytree=1,\n",
      "                                            early_stopping_rounds=None,\n",
      "                                            enable_categorical=False,\n",
      "                                            eval_metric=None, gamma=0,\n",
      "                                            gpu_id=None, grow_policy=None,\n",
      "                                            importance_type=None,\n",
      "                                            interaction_constraints=None,\n",
      "                                            learning_rate=0.08, max_bin=None,\n",
      "                                            max_cat_to_onehot=None,\n",
      "                                            max_delta_step=None, max_depth=7,\n",
      "                                            max_leaves=None,\n",
      "                                            min_child_weight=None, missing=nan,\n",
      "                                            monotone_constraints=None,\n",
      "                                            n_estimators=100, n_jobs=None,\n",
      "                                            num_parallel_tree=None,\n",
      "                                            predictor=None, random_state=None,\n",
      "                                            reg_alpha=None, reg_lambda=None, ...)) -----리더보드 스코어   1.9457831550727434\n",
      "Done.\n"
     ]
    }
   ],
   "source": [
    "import xgboost as xgb\n",
    "XGB = MultiOutputRegressor(xgb.XGBRegressor(n_estimators=100, learning_rate=0.08, gamma = 0, subsample=0.75, colsample_bytree = 1, max_depth=7)).fit(train_x, train_y)\n",
    "valid_preds = XGB.predict(valid_x)\n",
    "score = lg_nrmse(valid_y.values,valid_preds)\n",
    "\n",
    "print(\"------현재 모델\",XGB,'-----리더보드 스코어  ',score)\n",
    "print('Done.')"
   ]
  },
  {
   "cell_type": "markdown",
   "id": "6f41cc9f-5cc4-4b03-9640-8c1982a7acad",
   "metadata": {},
   "source": [
    "## Submit"
   ]
  },
  {
   "cell_type": "code",
   "execution_count": null,
   "id": "5532ea96",
   "metadata": {},
   "outputs": [],
   "source": [
    "test_x = pd.read_csv('./test.csv').drop(columns=['ID'])"
   ]
  },
  {
   "cell_type": "code",
   "execution_count": 45,
   "id": "20c5e156-d7c4-400f-b552-0bb86ebfd3e3",
   "metadata": {},
   "outputs": [],
   "source": [
    "submit = pd.read_csv('./sample_submission.csv')"
   ]
  },
  {
   "cell_type": "code",
   "execution_count": 46,
   "id": "5b869ab6-6852-45a1-bc75-39dee40b583f",
   "metadata": {},
   "outputs": [
    {
     "name": "stdout",
     "output_type": "stream",
     "text": [
      "Done.\n"
     ]
    }
   ],
   "source": [
    "\n",
    "for idx, col in enumerate(submit.columns):\n",
    "    if col=='ID':\n",
    "        continue\n",
    "    submit[col] = preds[:,idx-1]\n",
    "print('Done.')"
   ]
  },
  {
   "cell_type": "code",
   "execution_count": 47,
   "id": "026b00cd-5680-4bf2-b7f8-0bea6ae8299e",
   "metadata": {},
   "outputs": [],
   "source": [
    "submit.to_csv('./submit.csv', index=False)"
   ]
  },
  {
   "cell_type": "code",
   "execution_count": null,
   "id": "385f7208",
   "metadata": {},
   "outputs": [],
   "source": []
  }
 ],
 "metadata": {
  "kernelspec": {
   "display_name": "Python 3.8.0 ('(lg_aimers)')",
   "language": "python",
   "name": "python3"
  },
  "language_info": {
   "codemirror_mode": {
    "name": "ipython",
    "version": 3
   },
   "file_extension": ".py",
   "mimetype": "text/x-python",
   "name": "python",
   "nbconvert_exporter": "python",
   "pygments_lexer": "ipython3",
   "version": "3.8.0"
  },
  "vscode": {
   "interpreter": {
    "hash": "b8229f4c66369636c2f677a0ccad9e09a1901dc8eb305d0fd7a42760bb200be6"
   }
  }
 },
 "nbformat": 4,
 "nbformat_minor": 5
}
