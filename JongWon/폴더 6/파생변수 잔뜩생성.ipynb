{
 "cells": [
  {
   "cell_type": "markdown",
   "id": "fd510dcf-85b2-4396-858c-a14a37960c76",
   "metadata": {},
   "source": [
    "## Import"
   ]
  },
  {
   "cell_type": "code",
   "execution_count": 3,
   "id": "5c415d9d-1111-46ed-bc2d-849c75ab962a",
   "metadata": {},
   "outputs": [],
   "source": [
    "import pandas as pd\n",
    "import random\n",
    "import os\n",
    "import numpy as np"
   ]
  },
  {
   "cell_type": "code",
   "execution_count": 73,
   "id": "edae871a-b31b-4f06-bb88-0fd1f6660b13",
   "metadata": {},
   "outputs": [],
   "source": [
    "def seed_everything(seed):\n",
    "    random.seed(seed)\n",
    "    os.environ['PYTHONHASHSEED'] = str(seed)\n",
    "    np.random.seed(seed)\n",
    "seed_everything(42) # Seed 고정"
   ]
  },
  {
   "cell_type": "code",
   "execution_count": 108,
   "id": "ecfacbd3",
   "metadata": {},
   "outputs": [],
   "source": [
    "from sklearn import metrics \n",
    "def lg_nrmse(gt, preds):\n",
    "    # 각 Y Feature별 NRMSE 총합\n",
    "    # Y_01 ~ Y_08 까지 20% 가중치 부여\n",
    "    all_nrmse = []\n",
    "    for idx in range(0,14): # ignore 'ID'\n",
    "        rmse = metrics.mean_squared_error(gt[:,idx], preds[:,idx], squared=False)\n",
    "        nrmse = rmse/np.mean(np.abs(gt[:,idx]))\n",
    "        all_nrmse.append(nrmse)\n",
    "    score = 1.2 * np.sum(all_nrmse[:8]) + 1.0 * np.sum(all_nrmse[8:14])\n",
    "    return score"
   ]
  },
  {
   "cell_type": "markdown",
   "id": "18003e8e-4227-4e98-98de-0861ba8dc6cc",
   "metadata": {},
   "source": [
    "## Data Load"
   ]
  },
  {
   "cell_type": "markdown",
   "id": "ea856651",
   "metadata": {},
   "source": []
  },
  {
   "cell_type": "code",
   "execution_count": 5,
   "id": "473c8364",
   "metadata": {},
   "outputs": [],
   "source": [
    "group_dict = {\n",
    "    \"Group_1\" : [\"X_01\", \"X_02\", \"X_05\", \"X_06\"],\n",
    "    \"Group_2\" : [\"X_03\", \"X_10\", \"X_11\"],\n",
    "    \"Group_3\" : [\"X_04\", \"X_23\", \"X_47\", \"X_48\"],\n",
    "    \"Group_4\" : [\"X_07\", \"X_08\", \"X_09\"],\n",
    "    \"Group_5\" : [\"X_12\"],\n",
    "    \"Group_6\" : [\"X_13\"],\n",
    "    \"Group_7\" : [\"X_14\", \"X_15\", \"X_16\", \"X_17\", \"X_18\"],\n",
    "    \"Group_8\" : [\"X_19\", \"X_20\", \"X_21\", \"X_22\"],\n",
    "    \"Group_9\" : [\"X_24\", \"X_25\", \"X_26\", \"X_27\", \"X_28\", \"X_29\"],\n",
    "    \"Group_10\" : [\"X_30\", \"X_31\", \"X_32\", \"X_33\"],\n",
    "    \"Group_11\" : [\"X_34\", \"X_35\", \"X_36\", \"X_37\"],\n",
    "    \"Group_12\" : [\"X_38\", \"X_39\", \"X_40\"],\n",
    "    \"Group_13\" : [\"X_41\", \"X_42\", \"X_43\", \"X_44\"],\n",
    "    \"Group_14\" : [\"X_45\"],\n",
    "    \"Group_15\" : [\"X_46\"],\n",
    "    \"Group_16\" : [\"X_49\"],\n",
    "    \"Group_17\" : [\"X_50\", \"X_51\", \"X_52\", \"X_53\", \"X_54\", \"X_55\", \"X_56\"],\n",
    "}"
   ]
  },
  {
   "cell_type": "code",
   "execution_count": 124,
   "id": "ee76c413-001b-475e-9d1c-6662d25d2db2",
   "metadata": {},
   "outputs": [],
   "source": [
    "# 참고 https://hong-yp-ml-records.tistory.com/80\n",
    "train_df = pd.read_csv('./train.csv')\n",
    "# 파생변수 생성전 의미 없는 검사 결과 빼기\n",
    "train_df = train_df.drop(columns=[\"X_04\", \"X_23\", \"X_47\", \"X_48\",\"ID\"])\n",
    "# # 파생변수 생성\n",
    "for i in range(1,18):\n",
    "    if i != 3 and len(group_dict['Group_%d'%i]) >1 :\n",
    "        Group_train = train_df[group_dict['Group_%d'%i]]\n",
    "        train_df['Group_%d mean'%i] = Group_train.mean(axis = 1)\n",
    "        train_df['Group_%d var'%i] = Group_train.var(axis = 1)\n",
    "        train_df['Group_%d std'%i] = Group_train.std(axis = 1)\n",
    "        train_df['Group_%d sum'%i] = Group_train.sum(axis = 1)\n",
    "        train_df['Group_%d median'%i] = Group_train.median(axis = 1)\n",
    "train_df = train_df.dropna(axis = 1)\n"
   ]
  },
  {
   "cell_type": "code",
   "execution_count": 125,
   "id": "08fd756d",
   "metadata": {},
   "outputs": [],
   "source": [
    "# # 데이터 나누기\n",
    "from sklearn.model_selection import train_test_split\n",
    "train_df, valid_df = train_test_split(train_df, train_size=0.8)"
   ]
  },
  {
   "cell_type": "code",
   "execution_count": 126,
   "id": "858971cb",
   "metadata": {},
   "outputs": [],
   "source": [
    "train_x = train_df.filter(regex='[XG]') # Input : X Featrue\n",
    "train_y = train_df.filter(regex='Y') # Output : Y Feature\n",
    "\n",
    "valid_x = valid_df.filter(regex='[XG]') # Input : X Featrue\n",
    "valid_y = valid_df.filter(regex='Y') # Output : Y Feature"
   ]
  }
 ],
 "metadata": {
  "kernelspec": {
   "display_name": "Python 3.8.0 ('(lg_aimers)')",
   "language": "python",
   "name": "python3"
  },
  "language_info": {
   "codemirror_mode": {
    "name": "ipython",
    "version": 3
   },
   "file_extension": ".py",
   "mimetype": "text/x-python",
   "name": "python",
   "nbconvert_exporter": "python",
   "pygments_lexer": "ipython3",
   "version": "3.8.0"
  },
  "vscode": {
   "interpreter": {
    "hash": "b8229f4c66369636c2f677a0ccad9e09a1901dc8eb305d0fd7a42760bb200be6"
   }
  }
 },
 "nbformat": 4,
 "nbformat_minor": 5
}
