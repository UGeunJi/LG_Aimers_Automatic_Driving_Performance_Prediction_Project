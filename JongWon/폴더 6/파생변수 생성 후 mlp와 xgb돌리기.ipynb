{
 "cells": [
  {
   "cell_type": "markdown",
   "metadata": {},
   "source": [
    "# import"
   ]
  },
  {
   "cell_type": "code",
   "execution_count": 1,
   "metadata": {},
   "outputs": [],
   "source": [
    "import pandas as pd\n",
    "import random\n",
    "import os\n",
    "import numpy as np\n",
    "\n",
    "from sklearn.linear_model import LinearRegression\n",
    "from sklearn.multioutput import MultiOutputRegressor\n",
    "from sklearn.model_selection import GridSearchCV\n",
    "\n",
    "import matplotlib.pyplot as plt\n",
    "\n",
    "import xgboost as xgb\n",
    "\n",
    "from sklearn import metrics "
   ]
  },
  {
   "cell_type": "markdown",
   "metadata": {},
   "source": [
    "# seed"
   ]
  },
  {
   "cell_type": "code",
   "execution_count": 2,
   "metadata": {},
   "outputs": [],
   "source": [
    "def seed_everything(seed):\n",
    "    random.seed(seed)\n",
    "    os.environ['PYTHONHASHSEED'] = str(seed)\n",
    "    np.random.seed(seed)\n",
    "seed_everything(42) # Seed 고정"
   ]
  },
  {
   "cell_type": "code",
   "execution_count": 3,
   "metadata": {},
   "outputs": [],
   "source": [
    "def lg_nrmse(gt, preds):\n",
    "    # 각 Y Feature별 NRMSE 총합\n",
    "    # Y_01 ~ Y_08 까지 20% 가중치 부여\n",
    "    all_nrmse = []\n",
    "    for idx in range(0,14): # ignore 'ID'\n",
    "        rmse = metrics.mean_squared_error(gt[:,idx], preds[:,idx], squared=False)\n",
    "        nrmse = rmse/np.mean(np.abs(gt[:,idx]))\n",
    "        all_nrmse.append(nrmse)\n",
    "    score = 1.2 * np.sum(all_nrmse[:8]) + 1.0 * np.sum(all_nrmse[8:14])\n",
    "    return score"
   ]
  },
  {
   "cell_type": "markdown",
   "metadata": {},
   "source": [
    "# 그룹화 및 파생변수 생성"
   ]
  },
  {
   "cell_type": "code",
   "execution_count": 4,
   "metadata": {},
   "outputs": [],
   "source": [
    "group_dict = {\n",
    "    \"Group_1\" : [\"X_01\", \"X_02\", \"X_05\", \"X_06\"],\n",
    "    \"Group_2\" : [\"X_03\", \"X_10\", \"X_11\"],\n",
    "    \"Group_3\" : [\"X_04\", \"X_23\", \"X_47\", \"X_48\"],\n",
    "    \"Group_4\" : [\"X_07\", \"X_08\", \"X_09\"],\n",
    "    \"Group_5\" : [\"X_12\"],\n",
    "    \"Group_6\" : [\"X_13\"],\n",
    "    \"Group_7\" : [\"X_14\", \"X_15\", \"X_16\", \"X_17\", \"X_18\"],\n",
    "    \"Group_8\" : [\"X_19\", \"X_20\", \"X_21\", \"X_22\"],\n",
    "    \"Group_9\" : [\"X_24\", \"X_25\", \"X_26\", \"X_27\", \"X_28\", \"X_29\"],\n",
    "    \"Group_10\" : [\"X_30\", \"X_31\", \"X_32\", \"X_33\"],\n",
    "    \"Group_11\" : [\"X_34\", \"X_35\", \"X_36\", \"X_37\"],\n",
    "    \"Group_12\" : [\"X_38\", \"X_39\", \"X_40\"],\n",
    "    \"Group_13\" : [\"X_41\", \"X_42\", \"X_43\", \"X_44\"],\n",
    "    \"Group_14\" : [\"X_45\"],\n",
    "    \"Group_15\" : [\"X_46\"],\n",
    "    \"Group_16\" : [\"X_49\"],\n",
    "    \"Group_17\" : [\"X_50\", \"X_51\", \"X_52\", \"X_53\", \"X_54\", \"X_55\", \"X_56\"],\n",
    "}"
   ]
  },
  {
   "cell_type": "code",
   "execution_count": 5,
   "metadata": {},
   "outputs": [],
   "source": [
    "# 참고 https://hong-yp-ml-records.tistory.com/80\n",
    "train_df = pd.read_csv('./train.csv')\n",
    "# 파생변수 생성전 의미 없는 검사 결과 빼기\n",
    "train_df = train_df.drop(columns=[\"X_04\", \"X_23\", \"X_47\", \"X_48\",\"ID\"])\n",
    "# # 파생변수 생성\n",
    "for i in range(1,18):\n",
    "    if i != 3 and len(group_dict['Group_%d'%i]) >1 :\n",
    "        Group_train = train_df[group_dict['Group_%d'%i]]\n",
    "        train_df['Group_%d mean'%i] = Group_train.mean(axis = 1)\n",
    "        train_df['Group_%d var'%i] = Group_train.var(axis = 1)\n",
    "        train_df['Group_%d std'%i] = Group_train.std(axis = 1)\n",
    "        train_df['Group_%d sum'%i] = Group_train.sum(axis = 1)\n",
    "        train_df['Group_%d median'%i] = Group_train.median(axis = 1)\n",
    "train_df = train_df.dropna(axis = 1)\n",
    "# # 데이터 나누기\n",
    "from sklearn.model_selection import train_test_split\n",
    "train_df, valid_df = train_test_split(train_df, train_size=0.8)\n",
    "train_x = train_df.filter(regex='[XG]') # Input : X Featrue\n",
    "train_y = train_df.filter(regex='Y') # Output : Y Feature\n",
    "\n",
    "valid_x = valid_df.filter(regex='[XG]') # Input : X Featrue\n",
    "valid_y = valid_df.filter(regex='Y') # Output : Y Feature"
   ]
  },
  {
   "cell_type": "code",
   "execution_count": 7,
   "metadata": {},
   "outputs": [
    {
     "name": "stdout",
     "output_type": "stream",
     "text": [
      "Fitting 10 folds for each of 36 candidates, totalling 360 fits\n"
     ]
    },
    {
     "name": "stderr",
     "output_type": "stream",
     "text": [
      "[Parallel(n_jobs=1)]: Using backend SequentialBackend with 1 concurrent workers.\n",
      "c:\\Users\\user\\anaconda3\\envs\\(lg_aimers)\\lib\\site-packages\\sklearn\\model_selection\\_validation.py:548: FitFailedWarning: Estimator fit failed. The score on this train-test partition for these parameters will be set to nan. Details: \n",
      "Traceback (most recent call last):\n",
      "  File \"c:\\Users\\user\\anaconda3\\envs\\(lg_aimers)\\lib\\site-packages\\sklearn\\model_selection\\_validation.py\", line 531, in _fit_and_score\n",
      "    estimator.fit(X_train, y_train, **fit_params)\n",
      "  File \"c:\\Users\\user\\anaconda3\\envs\\(lg_aimers)\\lib\\site-packages\\sklearn\\neural_network\\_multilayer_perceptron.py\", line 641, in fit\n",
      "    return self._fit(X, y, incremental=False)\n",
      "  File \"c:\\Users\\user\\anaconda3\\envs\\(lg_aimers)\\lib\\site-packages\\sklearn\\neural_network\\_multilayer_perceptron.py\", line 321, in _fit\n",
      "    self._validate_hyperparameters()\n",
      "  File \"c:\\Users\\user\\anaconda3\\envs\\(lg_aimers)\\lib\\site-packages\\sklearn\\neural_network\\_multilayer_perceptron.py\", line 419, in _validate_hyperparameters\n",
      "    raise ValueError(\"The activation '%s' is not supported. Supported \"\n",
      "ValueError: The activation 'LeakyReLU' is not supported. Supported activations are ['identity', 'logistic', 'relu', 'softmax', 'tanh'].\n",
      "\n",
      "  warnings.warn(\"Estimator fit failed. The score on this train-test\"\n",
      "[Parallel(n_jobs=1)]: Done 360 out of 360 | elapsed: 50.8min finished\n"
     ]
    },
    {
     "data": {
      "text/plain": [
       "GridSearchCV(cv=10, estimator=MLPRegressor(),\n",
       "             param_grid={'activation': ['LeakyReLU', 'relu'], 'alpha': [0.0001],\n",
       "                         'early_stopping': [True],\n",
       "                         'hidden_layer_sizes': [2, 3, 4, 5, 6, 7, 8, 9, 10, 11,\n",
       "                                                12, 13, 14, 15, 16, 17, 18,\n",
       "                                                19],\n",
       "                         'learning_rate': ['constant'],\n",
       "                         'learning_rate_init': [0.0003], 'max_iter': [1000],\n",
       "                         'power_t': [0.5], 'solver': ['adam'],\n",
       "                         'warm_start': [False]},\n",
       "             verbose=True)"
      ]
     },
     "execution_count": 7,
     "metadata": {},
     "output_type": "execute_result"
    }
   ],
   "source": [
    "# MLPRegressor\n",
    "\n",
    "from sklearn.neural_network import MLPRegressor\n",
    "\n",
    "mlp = MLPRegressor()\n",
    "param_grid = {'hidden_layer_sizes': [i for i in range(2,20)],\n",
    "              'activation': ['LeakyReLU', 'relu'],\n",
    "              'solver': ['adam'],\n",
    "              'learning_rate': ['constant'],\n",
    "              'learning_rate_init': [0.0003],\n",
    "              'power_t': [0.5],\n",
    "              'alpha': [0.0001],\n",
    "              'max_iter': [1000],\n",
    "              'early_stopping': [True],\n",
    "              'warm_start': [False]}\n",
    "mlp_GS = GridSearchCV(mlp, param_grid=param_grid, \n",
    "                   cv=10, verbose=True, pre_dispatch='2*n_jobs')\n",
    "mlp_GS.fit(train_x, train_y)"
   ]
  },
  {
   "cell_type": "code",
   "execution_count": 8,
   "metadata": {},
   "outputs": [],
   "source": [
    "valid_preds = mlp_GS.predict(valid_x)\n",
    "score = lg_nrmse(valid_y.values,valid_preds)\n"
   ]
  },
  {
   "cell_type": "code",
   "execution_count": 9,
   "metadata": {},
   "outputs": [
    {
     "data": {
      "text/plain": [
       "2.0069135598975882"
      ]
     },
     "execution_count": 9,
     "metadata": {},
     "output_type": "execute_result"
    }
   ],
   "source": [
    "score"
   ]
  },
  {
   "cell_type": "code",
   "execution_count": 7,
   "metadata": {},
   "outputs": [
    {
     "name": "stdout",
     "output_type": "stream",
     "text": [
      "Fitting 3 folds for each of 288 candidates, totalling 864 fits\n"
     ]
    },
    {
     "name": "stderr",
     "output_type": "stream",
     "text": [
      "[Parallel(n_jobs=4)]: Using backend LokyBackend with 4 concurrent workers.\n",
      "[Parallel(n_jobs=4)]: Done  33 tasks      | elapsed:  2.0min\n",
      "[Parallel(n_jobs=4)]: Done 154 tasks      | elapsed: 16.7min\n",
      "[Parallel(n_jobs=4)]: Done 357 tasks      | elapsed: 39.4min\n",
      "[Parallel(n_jobs=4)]: Done 640 tasks      | elapsed: 68.8min\n",
      "[Parallel(n_jobs=4)]: Done 864 out of 864 | elapsed: 92.2min finished\n"
     ]
    },
    {
     "name": "stdout",
     "output_type": "stream",
     "text": [
      "[03:33:58] WARNING: C:/Users/Administrator/workspace/xgboost-win64_release_1.6.0/src/learner.cc:256: Only 1 GPUs are visible, setting `gpu_id` to 0\n",
      "Fitting 3 folds for each of 288 candidates, totalling 864 fits\n"
     ]
    },
    {
     "name": "stderr",
     "output_type": "stream",
     "text": [
      "[Parallel(n_jobs=4)]: Using backend LokyBackend with 4 concurrent workers.\n",
      "[Parallel(n_jobs=4)]: Done  33 tasks      | elapsed:  2.0min\n",
      "[Parallel(n_jobs=4)]: Done 154 tasks      | elapsed: 16.8min\n",
      "[Parallel(n_jobs=4)]: Done 357 tasks      | elapsed: 39.5min\n",
      "[Parallel(n_jobs=4)]: Done 640 tasks      | elapsed: 69.2min\n",
      "[Parallel(n_jobs=4)]: Done 864 out of 864 | elapsed: 93.1min finished\n"
     ]
    },
    {
     "name": "stdout",
     "output_type": "stream",
     "text": [
      "[05:07:10] WARNING: C:/Users/Administrator/workspace/xgboost-win64_release_1.6.0/src/learner.cc:256: Only 1 GPUs are visible, setting `gpu_id` to 0\n",
      "Fitting 3 folds for each of 288 candidates, totalling 864 fits\n"
     ]
    },
    {
     "name": "stderr",
     "output_type": "stream",
     "text": [
      "[Parallel(n_jobs=4)]: Using backend LokyBackend with 4 concurrent workers.\n",
      "[Parallel(n_jobs=4)]: Done  33 tasks      | elapsed:  2.0min\n",
      "[Parallel(n_jobs=4)]: Done 154 tasks      | elapsed: 16.8min\n",
      "[Parallel(n_jobs=4)]: Done 357 tasks      | elapsed: 39.6min\n",
      "[Parallel(n_jobs=4)]: Done 640 tasks      | elapsed: 69.2min\n",
      "[Parallel(n_jobs=4)]: Done 864 out of 864 | elapsed: 92.9min finished\n"
     ]
    },
    {
     "name": "stdout",
     "output_type": "stream",
     "text": [
      "[06:40:12] WARNING: C:/Users/Administrator/workspace/xgboost-win64_release_1.6.0/src/learner.cc:256: Only 1 GPUs are visible, setting `gpu_id` to 0\n",
      "Fitting 3 folds for each of 288 candidates, totalling 864 fits\n"
     ]
    },
    {
     "name": "stderr",
     "output_type": "stream",
     "text": [
      "[Parallel(n_jobs=4)]: Using backend LokyBackend with 4 concurrent workers.\n",
      "[Parallel(n_jobs=4)]: Done  33 tasks      | elapsed:  1.4min\n",
      "[Parallel(n_jobs=4)]: Done 154 tasks      | elapsed: 11.7min\n",
      "[Parallel(n_jobs=4)]: Done 357 tasks      | elapsed: 29.3min\n",
      "[Parallel(n_jobs=4)]: Done 640 tasks      | elapsed: 54.6min\n",
      "[Parallel(n_jobs=4)]: Done 864 out of 864 | elapsed: 74.2min finished\n"
     ]
    },
    {
     "name": "stdout",
     "output_type": "stream",
     "text": [
      "[07:54:32] WARNING: C:/Users/Administrator/workspace/xgboost-win64_release_1.6.0/src/learner.cc:256: Only 1 GPUs are visible, setting `gpu_id` to 0\n",
      "Fitting 3 folds for each of 288 candidates, totalling 864 fits\n"
     ]
    },
    {
     "name": "stderr",
     "output_type": "stream",
     "text": [
      "[Parallel(n_jobs=4)]: Using backend LokyBackend with 4 concurrent workers.\n",
      "[Parallel(n_jobs=4)]: Done  33 tasks      | elapsed:   24.9s\n",
      "[Parallel(n_jobs=4)]: Done 154 tasks      | elapsed:  7.2min\n",
      "[Parallel(n_jobs=4)]: Done 357 tasks      | elapsed: 20.1min\n",
      "[Parallel(n_jobs=4)]: Done 640 tasks      | elapsed: 40.5min\n",
      "[Parallel(n_jobs=4)]: Done 864 out of 864 | elapsed: 55.5min finished\n"
     ]
    },
    {
     "name": "stdout",
     "output_type": "stream",
     "text": [
      "[08:50:12] WARNING: C:/Users/Administrator/workspace/xgboost-win64_release_1.6.0/src/learner.cc:256: Only 1 GPUs are visible, setting `gpu_id` to 0\n",
      "Fitting 3 folds for each of 288 candidates, totalling 864 fits\n"
     ]
    },
    {
     "name": "stderr",
     "output_type": "stream",
     "text": [
      "[Parallel(n_jobs=4)]: Using backend LokyBackend with 4 concurrent workers.\n",
      "[Parallel(n_jobs=4)]: Done  33 tasks      | elapsed:  1.1min\n",
      "[Parallel(n_jobs=4)]: Done 154 tasks      | elapsed:  8.5min\n",
      "[Parallel(n_jobs=4)]: Done 357 tasks      | elapsed: 22.0min\n",
      "[Parallel(n_jobs=4)]: Done 640 tasks      | elapsed: 42.3min\n",
      "[Parallel(n_jobs=4)]: Done 864 out of 864 | elapsed: 57.5min finished\n"
     ]
    },
    {
     "name": "stdout",
     "output_type": "stream",
     "text": [
      "[09:47:52] WARNING: C:/Users/Administrator/workspace/xgboost-win64_release_1.6.0/src/learner.cc:256: Only 1 GPUs are visible, setting `gpu_id` to 0\n",
      "Fitting 3 folds for each of 288 candidates, totalling 864 fits\n"
     ]
    },
    {
     "name": "stderr",
     "output_type": "stream",
     "text": [
      "[Parallel(n_jobs=4)]: Using backend LokyBackend with 4 concurrent workers.\n",
      "[Parallel(n_jobs=4)]: Done  33 tasks      | elapsed:  1.1min\n",
      "[Parallel(n_jobs=4)]: Done 154 tasks      | elapsed:  9.8min\n",
      "[Parallel(n_jobs=4)]: Done 357 tasks      | elapsed: 25.1min\n",
      "[Parallel(n_jobs=4)]: Done 640 tasks      | elapsed: 47.2min\n",
      "[Parallel(n_jobs=4)]: Done 864 out of 864 | elapsed: 63.5min finished\n"
     ]
    },
    {
     "name": "stdout",
     "output_type": "stream",
     "text": [
      "[10:51:28] WARNING: C:/Users/Administrator/workspace/xgboost-win64_release_1.6.0/src/learner.cc:256: Only 1 GPUs are visible, setting `gpu_id` to 0\n",
      "Fitting 3 folds for each of 288 candidates, totalling 864 fits\n"
     ]
    },
    {
     "name": "stderr",
     "output_type": "stream",
     "text": [
      "[Parallel(n_jobs=4)]: Using backend LokyBackend with 4 concurrent workers.\n",
      "[Parallel(n_jobs=4)]: Done  33 tasks      | elapsed:   23.9s\n",
      "[Parallel(n_jobs=4)]: Done 154 tasks      | elapsed:  5.8min\n",
      "[Parallel(n_jobs=4)]: Done 357 tasks      | elapsed: 17.1min\n",
      "[Parallel(n_jobs=4)]: Done 640 tasks      | elapsed: 35.2min\n",
      "[Parallel(n_jobs=4)]: Done 864 out of 864 | elapsed: 48.6min finished\n"
     ]
    },
    {
     "name": "stdout",
     "output_type": "stream",
     "text": [
      "[11:40:09] WARNING: C:/Users/Administrator/workspace/xgboost-win64_release_1.6.0/src/learner.cc:256: Only 1 GPUs are visible, setting `gpu_id` to 0\n",
      "Fitting 3 folds for each of 288 candidates, totalling 864 fits\n"
     ]
    },
    {
     "name": "stderr",
     "output_type": "stream",
     "text": [
      "[Parallel(n_jobs=4)]: Using backend LokyBackend with 4 concurrent workers.\n",
      "[Parallel(n_jobs=4)]: Done  33 tasks      | elapsed:   24.0s\n",
      "[Parallel(n_jobs=4)]: Done 154 tasks      | elapsed:  6.0min\n",
      "[Parallel(n_jobs=4)]: Done 357 tasks      | elapsed: 17.6min\n",
      "[Parallel(n_jobs=4)]: Done 640 tasks      | elapsed: 36.2min\n",
      "[Parallel(n_jobs=4)]: Done 864 out of 864 | elapsed: 49.7min finished\n"
     ]
    },
    {
     "name": "stdout",
     "output_type": "stream",
     "text": [
      "[12:29:55] WARNING: C:/Users/Administrator/workspace/xgboost-win64_release_1.6.0/src/learner.cc:256: Only 1 GPUs are visible, setting `gpu_id` to 0\n",
      "Fitting 3 folds for each of 288 candidates, totalling 864 fits\n"
     ]
    },
    {
     "name": "stderr",
     "output_type": "stream",
     "text": [
      "[Parallel(n_jobs=4)]: Using backend LokyBackend with 4 concurrent workers.\n",
      "[Parallel(n_jobs=4)]: Done  33 tasks      | elapsed:   28.5s\n",
      "[Parallel(n_jobs=4)]: Done 154 tasks      | elapsed:  6.6min\n",
      "[Parallel(n_jobs=4)]: Done 357 tasks      | elapsed: 18.7min\n",
      "[Parallel(n_jobs=4)]: Done 640 tasks      | elapsed: 38.3min\n",
      "[Parallel(n_jobs=4)]: Done 864 out of 864 | elapsed: 52.3min finished\n"
     ]
    },
    {
     "name": "stdout",
     "output_type": "stream",
     "text": [
      "[13:22:17] WARNING: C:/Users/Administrator/workspace/xgboost-win64_release_1.6.0/src/learner.cc:256: Only 1 GPUs are visible, setting `gpu_id` to 0\n",
      "Fitting 3 folds for each of 288 candidates, totalling 864 fits\n"
     ]
    },
    {
     "name": "stderr",
     "output_type": "stream",
     "text": [
      "[Parallel(n_jobs=4)]: Using backend LokyBackend with 4 concurrent workers.\n",
      "[Parallel(n_jobs=4)]: Done  33 tasks      | elapsed:   23.4s\n",
      "[Parallel(n_jobs=4)]: Done 154 tasks      | elapsed:  5.9min\n",
      "[Parallel(n_jobs=4)]: Done 357 tasks      | elapsed: 17.2min\n",
      "[Parallel(n_jobs=4)]: Done 640 tasks      | elapsed: 35.5min\n",
      "[Parallel(n_jobs=4)]: Done 864 out of 864 | elapsed: 49.1min finished\n"
     ]
    },
    {
     "name": "stdout",
     "output_type": "stream",
     "text": [
      "[14:11:28] WARNING: C:/Users/Administrator/workspace/xgboost-win64_release_1.6.0/src/learner.cc:256: Only 1 GPUs are visible, setting `gpu_id` to 0\n",
      "Fitting 3 folds for each of 288 candidates, totalling 864 fits\n"
     ]
    },
    {
     "name": "stderr",
     "output_type": "stream",
     "text": [
      "[Parallel(n_jobs=4)]: Using backend LokyBackend with 4 concurrent workers.\n",
      "[Parallel(n_jobs=4)]: Done  33 tasks      | elapsed:   23.9s\n",
      "[Parallel(n_jobs=4)]: Done 154 tasks      | elapsed:  5.9min\n",
      "[Parallel(n_jobs=4)]: Done 357 tasks      | elapsed: 17.2min\n",
      "[Parallel(n_jobs=4)]: Done 640 tasks      | elapsed: 35.3min\n",
      "[Parallel(n_jobs=4)]: Done 864 out of 864 | elapsed: 48.8min finished\n"
     ]
    },
    {
     "name": "stdout",
     "output_type": "stream",
     "text": [
      "[15:00:22] WARNING: C:/Users/Administrator/workspace/xgboost-win64_release_1.6.0/src/learner.cc:256: Only 1 GPUs are visible, setting `gpu_id` to 0\n",
      "Fitting 3 folds for each of 288 candidates, totalling 864 fits\n"
     ]
    },
    {
     "name": "stderr",
     "output_type": "stream",
     "text": [
      "[Parallel(n_jobs=4)]: Using backend LokyBackend with 4 concurrent workers.\n",
      "[Parallel(n_jobs=4)]: Done  33 tasks      | elapsed:   24.8s\n",
      "[Parallel(n_jobs=4)]: Done 154 tasks      | elapsed:  6.0min\n",
      "[Parallel(n_jobs=4)]: Done 357 tasks      | elapsed: 17.7min\n",
      "[Parallel(n_jobs=4)]: Done 640 tasks      | elapsed: 36.4min\n",
      "[Parallel(n_jobs=4)]: Done 864 out of 864 | elapsed: 49.9min finished\n"
     ]
    },
    {
     "name": "stdout",
     "output_type": "stream",
     "text": [
      "[15:50:20] WARNING: C:/Users/Administrator/workspace/xgboost-win64_release_1.6.0/src/learner.cc:256: Only 1 GPUs are visible, setting `gpu_id` to 0\n",
      "Fitting 3 folds for each of 288 candidates, totalling 864 fits\n"
     ]
    },
    {
     "name": "stderr",
     "output_type": "stream",
     "text": [
      "[Parallel(n_jobs=4)]: Using backend LokyBackend with 4 concurrent workers.\n",
      "[Parallel(n_jobs=4)]: Done  33 tasks      | elapsed:   24.7s\n",
      "[Parallel(n_jobs=4)]: Done 154 tasks      | elapsed:  6.0min\n",
      "[Parallel(n_jobs=4)]: Done 357 tasks      | elapsed: 18.1min\n",
      "[Parallel(n_jobs=4)]: Done 640 tasks      | elapsed: 38.0min\n",
      "[Parallel(n_jobs=4)]: Done 864 out of 864 | elapsed: 52.8min finished\n"
     ]
    },
    {
     "name": "stdout",
     "output_type": "stream",
     "text": [
      "[16:43:12] WARNING: C:/Users/Administrator/workspace/xgboost-win64_release_1.6.0/src/learner.cc:256: Only 1 GPUs are visible, setting `gpu_id` to 0\n"
     ]
    },
    {
     "ename": "AttributeError",
     "evalue": "'MultiOutputRegressor' object has no attribute 'cv_results_'",
     "output_type": "error",
     "traceback": [
      "\u001b[1;31m---------------------------------------------------------------------------\u001b[0m",
      "\u001b[1;31mAttributeError\u001b[0m                            Traceback (most recent call last)",
      "\u001b[1;32mC:\\Users\\Public\\Documents\\ESTsoft\\CreatorTemp/ipykernel_20508/83831329.py\u001b[0m in \u001b[0;36m<module>\u001b[1;34m\u001b[0m\n\u001b[0;32m     16\u001b[0m \u001b[1;33m\u001b[0m\u001b[0m\n\u001b[0;32m     17\u001b[0m \u001b[0mgrid_result\u001b[0m \u001b[1;33m=\u001b[0m \u001b[0mMultiOutputRegressor\u001b[0m\u001b[1;33m(\u001b[0m\u001b[0mgsc\u001b[0m\u001b[1;33m)\u001b[0m\u001b[1;33m.\u001b[0m\u001b[0mfit\u001b[0m\u001b[1;33m(\u001b[0m\u001b[0mtrain_x\u001b[0m\u001b[1;33m,\u001b[0m \u001b[0mtrain_y\u001b[0m\u001b[1;33m)\u001b[0m\u001b[1;33m\u001b[0m\u001b[1;33m\u001b[0m\u001b[0m\n\u001b[1;32m---> 18\u001b[1;33m \u001b[0mscores_df\u001b[0m \u001b[1;33m=\u001b[0m \u001b[0mpd\u001b[0m\u001b[1;33m.\u001b[0m\u001b[0mDataFrame\u001b[0m\u001b[1;33m(\u001b[0m\u001b[0mgrid_result\u001b[0m\u001b[1;33m.\u001b[0m\u001b[0mcv_results_\u001b[0m\u001b[1;33m)\u001b[0m\u001b[1;33m\u001b[0m\u001b[1;33m\u001b[0m\u001b[0m\n\u001b[0m",
      "\u001b[1;31mAttributeError\u001b[0m: 'MultiOutputRegressor' object has no attribute 'cv_results_'"
     ]
    }
   ],
   "source": [
    "# https://wooono.tistory.com/97\n",
    "gsc = GridSearchCV(\n",
    "        estimator=xgb.XGBRegressor(seed=42,\n",
    "                         tree_method='gpu_hist',\n",
    "                         gpu_id=3),\n",
    "        param_grid={\n",
    "                    \"learning_rate\": [0.001, 0.01, 0.08],\n",
    "                    \"n_estimators\":[ 500, 600],\n",
    "                    \"max_depth\": [5, 7],\n",
    "                    \"min_child_weight\": [ 3, 5, 7],\n",
    "                    \"gamma\":[ 0.0, 0.1],\n",
    "                    \"colsample_bytree\":[0.7, 0.8],\n",
    "                    \"subsample\":[0.7, 0.8],\n",
    "                    },\n",
    "                    cv=3, scoring='neg_mean_squared_error', verbose=2, n_jobs=4)\n",
    "\n",
    "grid_result = MultiOutputRegressor(gsc).fit(train_x, train_y)\n"
   ]
  },
  {
   "cell_type": "code",
   "execution_count": 23,
   "metadata": {},
   "outputs": [
    {
     "data": {
      "text/plain": [
       "{'estimator__cv': 3,\n",
       " 'estimator__error_score': nan,\n",
       " 'estimator__estimator__objective': 'reg:squarederror',\n",
       " 'estimator__estimator__base_score': None,\n",
       " 'estimator__estimator__booster': None,\n",
       " 'estimator__estimator__callbacks': None,\n",
       " 'estimator__estimator__colsample_bylevel': None,\n",
       " 'estimator__estimator__colsample_bynode': None,\n",
       " 'estimator__estimator__colsample_bytree': None,\n",
       " 'estimator__estimator__early_stopping_rounds': None,\n",
       " 'estimator__estimator__enable_categorical': False,\n",
       " 'estimator__estimator__eval_metric': None,\n",
       " 'estimator__estimator__gamma': None,\n",
       " 'estimator__estimator__gpu_id': 3,\n",
       " 'estimator__estimator__grow_policy': None,\n",
       " 'estimator__estimator__importance_type': None,\n",
       " 'estimator__estimator__interaction_constraints': None,\n",
       " 'estimator__estimator__learning_rate': None,\n",
       " 'estimator__estimator__max_bin': None,\n",
       " 'estimator__estimator__max_cat_to_onehot': None,\n",
       " 'estimator__estimator__max_delta_step': None,\n",
       " 'estimator__estimator__max_depth': None,\n",
       " 'estimator__estimator__max_leaves': None,\n",
       " 'estimator__estimator__min_child_weight': None,\n",
       " 'estimator__estimator__missing': nan,\n",
       " 'estimator__estimator__monotone_constraints': None,\n",
       " 'estimator__estimator__n_estimators': 100,\n",
       " 'estimator__estimator__n_jobs': None,\n",
       " 'estimator__estimator__num_parallel_tree': None,\n",
       " 'estimator__estimator__predictor': None,\n",
       " 'estimator__estimator__random_state': None,\n",
       " 'estimator__estimator__reg_alpha': None,\n",
       " 'estimator__estimator__reg_lambda': None,\n",
       " 'estimator__estimator__sampling_method': None,\n",
       " 'estimator__estimator__scale_pos_weight': None,\n",
       " 'estimator__estimator__subsample': None,\n",
       " 'estimator__estimator__tree_method': 'gpu_hist',\n",
       " 'estimator__estimator__validate_parameters': None,\n",
       " 'estimator__estimator__verbosity': None,\n",
       " 'estimator__estimator__seed': 42,\n",
       " 'estimator__estimator': XGBRegressor(base_score=None, booster=None, callbacks=None,\n",
       "              colsample_bylevel=None, colsample_bynode=None,\n",
       "              colsample_bytree=None, early_stopping_rounds=None,\n",
       "              enable_categorical=False, eval_metric=None, gamma=None, gpu_id=3,\n",
       "              grow_policy=None, importance_type=None,\n",
       "              interaction_constraints=None, learning_rate=None, max_bin=None,\n",
       "              max_cat_to_onehot=None, max_delta_step=None, max_depth=None,\n",
       "              max_leaves=None, min_child_weight=None, missing=nan,\n",
       "              monotone_constraints=None, n_estimators=100, n_jobs=None,\n",
       "              num_parallel_tree=None, predictor=None, random_state=None,\n",
       "              reg_alpha=None, reg_lambda=None, ...),\n",
       " 'estimator__iid': 'deprecated',\n",
       " 'estimator__n_jobs': 4,\n",
       " 'estimator__param_grid': {'learning_rate': [0.001, 0.01, 0.08],\n",
       "  'n_estimators': [500, 600],\n",
       "  'max_depth': [5, 7],\n",
       "  'min_child_weight': [3, 5, 7],\n",
       "  'gamma': [0.0, 0.1],\n",
       "  'colsample_bytree': [0.7, 0.8],\n",
       "  'subsample': [0.7, 0.8]},\n",
       " 'estimator__pre_dispatch': '2*n_jobs',\n",
       " 'estimator__refit': True,\n",
       " 'estimator__return_train_score': False,\n",
       " 'estimator__scoring': 'neg_mean_squared_error',\n",
       " 'estimator__verbose': 2,\n",
       " 'estimator': GridSearchCV(cv=3,\n",
       "              estimator=XGBRegressor(base_score=None, booster=None,\n",
       "                                     callbacks=None, colsample_bylevel=None,\n",
       "                                     colsample_bynode=None,\n",
       "                                     colsample_bytree=None,\n",
       "                                     early_stopping_rounds=None,\n",
       "                                     enable_categorical=False, eval_metric=None,\n",
       "                                     gamma=None, gpu_id=3, grow_policy=None,\n",
       "                                     importance_type=None,\n",
       "                                     interaction_constraints=None,\n",
       "                                     learning_rate=None, max_bin=None,\n",
       "                                     max_cat_to...\n",
       "                                     monotone_constraints=None, n_estimators=100,\n",
       "                                     n_jobs=None, num_parallel_tree=None,\n",
       "                                     predictor=None, random_state=None,\n",
       "                                     reg_alpha=None, reg_lambda=None, ...),\n",
       "              n_jobs=4,\n",
       "              param_grid={'colsample_bytree': [0.7, 0.8], 'gamma': [0.0, 0.1],\n",
       "                          'learning_rate': [0.001, 0.01, 0.08],\n",
       "                          'max_depth': [5, 7], 'min_child_weight': [3, 5, 7],\n",
       "                          'n_estimators': [500, 600], 'subsample': [0.7, 0.8]},\n",
       "              scoring='neg_mean_squared_error', verbose=2),\n",
       " 'n_jobs': None}"
      ]
     },
     "execution_count": 23,
     "metadata": {},
     "output_type": "execute_result"
    }
   ],
   "source": [
    "grid_result.get_params()"
   ]
  },
  {
   "cell_type": "code",
   "execution_count": 8,
   "metadata": {},
   "outputs": [
    {
     "ename": "AttributeError",
     "evalue": "'MultiOutputRegressor' object has no attribute 'cv_results_'",
     "output_type": "error",
     "traceback": [
      "\u001b[1;31m---------------------------------------------------------------------------\u001b[0m",
      "\u001b[1;31mAttributeError\u001b[0m                            Traceback (most recent call last)",
      "\u001b[1;32mC:\\Users\\Public\\Documents\\ESTsoft\\CreatorTemp/ipykernel_20508/2091393576.py\u001b[0m in \u001b[0;36m<module>\u001b[1;34m\u001b[0m\n\u001b[1;32m----> 1\u001b[1;33m \u001b[0mscores_df\u001b[0m \u001b[1;33m=\u001b[0m \u001b[0mpd\u001b[0m\u001b[1;33m.\u001b[0m\u001b[0mDataFrame\u001b[0m\u001b[1;33m(\u001b[0m\u001b[0mgrid_result\u001b[0m\u001b[1;33m.\u001b[0m\u001b[0mcv_results_\u001b[0m\u001b[1;33m)\u001b[0m\u001b[1;33m\u001b[0m\u001b[1;33m\u001b[0m\u001b[0m\n\u001b[0m\u001b[0;32m      2\u001b[0m \u001b[1;31m# 각 파라미터값들에 대한 모델 결과값들이 cv_results_ 객체에 할당됨\u001b[0m\u001b[1;33m\u001b[0m\u001b[1;33m\u001b[0m\u001b[1;33m\u001b[0m\u001b[0m\n\u001b[0;32m      3\u001b[0m \u001b[0mscores_df\u001b[0m \u001b[1;33m=\u001b[0m \u001b[0mpd\u001b[0m\u001b[1;33m.\u001b[0m\u001b[0mDataFrame\u001b[0m\u001b[1;33m(\u001b[0m\u001b[0mgrid_result\u001b[0m\u001b[1;33m.\u001b[0m\u001b[0mcv_results_\u001b[0m\u001b[1;33m)\u001b[0m\u001b[1;33m\u001b[0m\u001b[1;33m\u001b[0m\u001b[0m\n\u001b[0;32m      4\u001b[0m \u001b[1;33m\u001b[0m\u001b[0m\n\u001b[0;32m      5\u001b[0m \u001b[1;31m# score 결과값(ndarray형태로 할당됨) 중 특정 칼럼들만 가져오기\u001b[0m\u001b[1;33m\u001b[0m\u001b[1;33m\u001b[0m\u001b[1;33m\u001b[0m\u001b[0m\n",
      "\u001b[1;31mAttributeError\u001b[0m: 'MultiOutputRegressor' object has no attribute 'cv_results_'"
     ]
    }
   ],
   "source": [
    "scores_df = pd.DataFrame(grid_result.cv_results_)\n",
    "# 각 파라미터값들에 대한 모델 결과값들이 cv_results_ 객체에 할당됨\n",
    "scores_df = pd.DataFrame(grid_result.cv_results_)\n",
    "\n",
    "# score 결과값(ndarray형태로 할당됨) 중 특정 칼럼들만 가져오기 \n",
    "scores_df[['params', 'mean_test_score', 'rank_test_score', \n",
    "           'split0_test_score', 'split1_test_score', 'split2_test_score']]\n",
    "scores_df"
   ]
  },
  {
   "cell_type": "code",
   "execution_count": 21,
   "metadata": {},
   "outputs": [
    {
     "data": {
      "text/plain": [
       "1.9367319108563752"
      ]
     },
     "execution_count": 21,
     "metadata": {},
     "output_type": "execute_result"
    }
   ],
   "source": [
    "valid_preds = grid_result.predict(valid_x)\n",
    "score = lg_nrmse(valid_y.values,valid_preds)\n",
    "score"
   ]
  },
  {
   "cell_type": "code",
   "execution_count": 14,
   "metadata": {},
   "outputs": [],
   "source": [
    "submit = pd.read_csv('./sample_submission.csv')"
   ]
  },
  {
   "cell_type": "code",
   "execution_count": 18,
   "metadata": {},
   "outputs": [
    {
     "name": "stdout",
     "output_type": "stream",
     "text": [
      "Done.\n"
     ]
    }
   ],
   "source": [
    "test_x = pd.read_csv('./test.csv')\n",
    "# 참고 https://hong-yp-ml-records.tistory.com/80\n",
    "# 파생변수 생성전 의미 없는 검사 결과 빼기\n",
    "test_x = test_x.drop(columns=[\"X_04\", \"X_23\", \"X_47\", \"X_48\",\"ID\"])\n",
    "# # 파생변수 생성\n",
    "for i in range(1,18):\n",
    "    if i != 3 and len(group_dict['Group_%d'%i]) >1 :\n",
    "        Group_train = test_x[group_dict['Group_%d'%i]]\n",
    "        test_x['Group_%d mean'%i] = Group_train.mean(axis = 1)\n",
    "        test_x['Group_%d var'%i] = Group_train.var(axis = 1)\n",
    "        test_x['Group_%d std'%i] = Group_train.std(axis = 1)\n",
    "        test_x['Group_%d sum'%i] = Group_train.sum(axis = 1)\n",
    "        test_x['Group_%d median'%i] = Group_train.median(axis = 1)\n",
    "test_x = test_x.dropna(axis = 1)\n",
    "preds = grid_result.predict(test_x)\n",
    "print('Done.')"
   ]
  },
  {
   "cell_type": "code",
   "execution_count": 19,
   "metadata": {},
   "outputs": [
    {
     "name": "stdout",
     "output_type": "stream",
     "text": [
      "Done.\n"
     ]
    }
   ],
   "source": [
    "for idx, col in enumerate(submit.columns):\n",
    "    if col=='ID':\n",
    "        continue\n",
    "    submit[col] = preds[:,idx-1]\n",
    "print('Done.')"
   ]
  },
  {
   "cell_type": "code",
   "execution_count": 20,
   "metadata": {},
   "outputs": [],
   "source": [
    "submit.to_csv('./submit_XGBoost.csv', index=False)"
   ]
  },
  {
   "cell_type": "markdown",
   "metadata": {},
   "source": [
    "# 1.946의 성능이 나왔다.\n"
   ]
  },
  {
   "cell_type": "markdown",
   "metadata": {},
   "source": []
  }
 ],
 "metadata": {
  "kernelspec": {
   "display_name": "Python 3.8.0 ('(lg_aimers)')",
   "language": "python",
   "name": "python3"
  },
  "language_info": {
   "codemirror_mode": {
    "name": "ipython",
    "version": 3
   },
   "file_extension": ".py",
   "mimetype": "text/x-python",
   "name": "python",
   "nbconvert_exporter": "python",
   "pygments_lexer": "ipython3",
   "version": "3.8.0"
  },
  "orig_nbformat": 4,
  "vscode": {
   "interpreter": {
    "hash": "b8229f4c66369636c2f677a0ccad9e09a1901dc8eb305d0fd7a42760bb200be6"
   }
  }
 },
 "nbformat": 4,
 "nbformat_minor": 2
}
