{
 "cells": [
  {
   "cell_type": "markdown",
   "id": "fd510dcf-85b2-4396-858c-a14a37960c76",
   "metadata": {},
   "source": [
    "## Import"
   ]
  },
  {
   "cell_type": "code",
   "execution_count": 1,
   "id": "5c415d9d-1111-46ed-bc2d-849c75ab962a",
   "metadata": {},
   "outputs": [],
   "source": [
    "import pandas as pd\n",
    "import random\n",
    "import os\n",
    "import numpy as np\n",
    "\n",
    "from sklearn.linear_model import LinearRegression\n",
    "from sklearn.multioutput import MultiOutputRegressor"
   ]
  },
  {
   "cell_type": "code",
   "execution_count": 53,
   "id": "edae871a-b31b-4f06-bb88-0fd1f6660b13",
   "metadata": {},
   "outputs": [],
   "source": [
    "def seed_everything(seed):\n",
    "    random.seed(seed)\n",
    "    os.environ['PYTHONHASHSEED'] = str(seed)\n",
    "    np.random.seed(seed)\n",
    "seed_everything(42) # Seed 고정"
   ]
  },
  {
   "cell_type": "code",
   "execution_count": 54,
   "id": "ecfacbd3",
   "metadata": {},
   "outputs": [],
   "source": [
    "from sklearn import metrics \n",
    "def lg_nrmse(gt, preds):\n",
    "    # 각 Y Feature별 NRMSE 총합\n",
    "    # Y_01 ~ Y_08 까지 20% 가중치 부여\n",
    "    all_nrmse = []\n",
    "    for idx in range(0,14): # ignore 'ID'\n",
    "        rmse = metrics.mean_squared_error(gt[:,idx], preds[:,idx], squared=False)\n",
    "        nrmse = rmse/np.mean(np.abs(gt[:,idx]))\n",
    "        all_nrmse.append(nrmse)\n",
    "    score = 1.2 * np.sum(all_nrmse[:8]) + 1.0 * np.sum(all_nrmse[8:14])\n",
    "    return score"
   ]
  },
  {
   "cell_type": "markdown",
   "id": "18003e8e-4227-4e98-98de-0861ba8dc6cc",
   "metadata": {},
   "source": [
    "## Data Load"
   ]
  },
  {
   "cell_type": "code",
   "execution_count": 55,
   "id": "ee76c413-001b-475e-9d1c-6662d25d2db2",
   "metadata": {},
   "outputs": [],
   "source": [
    "train_df = pd.read_csv('./train.csv')\n",
    "from sklearn.model_selection import train_test_split\n",
    "train_df, valid_df = train_test_split(train_df, train_size=0.8)"
   ]
  },
  {
   "cell_type": "code",
   "execution_count": 26,
   "id": "08fd756d",
   "metadata": {},
   "outputs": [],
   "source": [
    "# # 파생변수 생성\n"
   ]
  },
  {
   "cell_type": "code",
   "execution_count": 56,
   "id": "858971cb",
   "metadata": {},
   "outputs": [],
   "source": [
    "train_x = train_df.filter(regex='X') # Input : X Featrue\n",
    "train_y = train_df.filter(regex='Y') # Output : Y Feature\n",
    "\n",
    "valid_x = valid_df.filter(regex='X') # Input : X Featrue\n",
    "valid_y = valid_df.filter(regex='Y') # Output : Y Feature"
   ]
  },
  {
   "cell_type": "markdown",
   "id": "d8ddc03e-78a5-4ffe-acdb-7c97e9b5fe09",
   "metadata": {},
   "source": [
    "## Regression Model Fit"
   ]
  },
  {
   "cell_type": "code",
   "execution_count": 28,
   "id": "b5847e34",
   "metadata": {},
   "outputs": [],
   "source": [
    "group_dict = {\n",
    "    \"Group_1\" : [\"X_01\", \"X_02\", \"X_05\", \"X_06\"],\n",
    "    \"Group_2\" : [\"X_03\", \"X_10\", \"X_11\"],\n",
    "    \"Group_3\" : [\"X_04\", \"X_23\", \"X_47\", \"X_48\"],\n",
    "    \"Group_4\" : [\"X_07\", \"X_08\", \"X_09\"],\n",
    "    \"Group_5\" : [\"X_12\"],\n",
    "    \"Group_6\" : [\"X_13\"],\n",
    "    \"Group_7\" : [\"X_14\", \"X_15\", \"X_16\", \"X_17\", \"X_18\"],\n",
    "    \"Group_8\" : [\"X_19\", \"X_20\", \"X_21\", \"X_22\"],\n",
    "    \"Group_9\" : [\"X_24\", \"X_25\", \"X_26\", \"X_27\", \"X_28\", \"X_29\"],\n",
    "    \"Group_10\" : [\"X_30\", \"X_31\", \"X_32\", \"X_33\"],\n",
    "    \"Group_11\" : [\"X_34\", \"X_35\", \"X_36\", \"X_37\"],\n",
    "    \"Group_12\" : [\"X_38\", \"X_39\", \"X_40\"],\n",
    "    \"Group_13\" : [\"X_41\", \"X_42\", \"X_43\", \"X_44\"],\n",
    "    \"Group_14\" : [\"X_45\"],\n",
    "    \"Group_15\" : [\"X_46\"],\n",
    "    \"Group_16\" : [\"X_49\"],\n",
    "    \"Group_17\" : [\"X_50\", \"X_51\", \"X_52\", \"X_53\", \"X_54\", \"X_55\", \"X_56\"],\n",
    "}"
   ]
  },
  {
   "cell_type": "code",
   "execution_count": 34,
   "id": "975fed05",
   "metadata": {},
   "outputs": [
    {
     "name": "stdout",
     "output_type": "stream",
     "text": [
      "         X_01    X_02   X_03  X_04     X_05    X_06   X_07     X_08    X_09  \\\n",
      "8562   68.504  103.32  70.97     1  101.841  69.884  33.87   107.77  287.03   \n",
      "29946  65.445  103.32  62.57     1  102.085  66.825  29.50   101.44  188.88   \n",
      "26874  67.485  103.32  79.97     1  102.052  69.884  28.87   103.26  211.26   \n",
      "28001  66.465  103.32  68.57     1  101.952  72.943  26.91   109.88  238.38   \n",
      "35013  65.445  103.32  61.97     1  102.072  65.805  28.70   113.82  263.12   \n",
      "...       ...     ...    ...   ...      ...     ...    ...      ...     ...   \n",
      "23922  67.485  103.32  67.97     1  101.965  72.943  26.00  1400.30   37.58   \n",
      "38999  68.504  103.32  64.67     1  103.151  68.864  29.67   111.28  244.35   \n",
      "31084  67.485  103.32  75.97     1  102.011  68.864  29.11    80.39  233.70   \n",
      "4013   68.504  103.32  73.47     1  101.947  72.943  31.92   111.89  101.92   \n",
      "8755   69.524  103.32  68.47     1  103.158  69.884  28.81   102.37  243.03   \n",
      "\n",
      "       X_10  ...   X_40   X_41   X_42   X_43   X_44  X_45  X_46  X_47  X_48  \\\n",
      "8562    0.0  ... -16.57  21.17  21.06  21.21  21.20  0.15  1469     1     1   \n",
      "29946   0.0  ... -16.97  21.21  21.06  21.18  21.13  0.15  1469     1     1   \n",
      "26874   0.0  ... -16.73  21.21  21.04  21.23  21.13  0.19  1466     1     1   \n",
      "28001   0.0  ... -16.64  21.17  21.06  21.22  21.20  0.16  1469     1     1   \n",
      "35013   0.0  ... -16.90  21.19  21.04  21.22  21.14  0.18  1469     1     1   \n",
      "...     ...  ...    ...    ...    ...    ...    ...   ...   ...   ...   ...   \n",
      "23922   0.0  ... -16.68  21.21  21.03  21.24  21.12  0.21  1469     1     1   \n",
      "38999   0.0  ... -16.95  21.18  21.09  21.21  21.20  0.12  1469     1     1   \n",
      "31084   0.0  ... -16.28  21.19  21.03  21.21  21.12  0.18  1463     1     1   \n",
      "4013    0.0  ... -16.68  21.21  21.04  21.23  21.18  0.19  1469     1     1   \n",
      "8755    0.0  ... -15.88  21.17  21.11  21.20  21.22  0.11  1469     1     1   \n",
      "\n",
      "           X_49  \n",
      "8562   12620.13  \n",
      "29946   8887.13  \n",
      "26874  13704.13  \n",
      "28001   9179.63  \n",
      "35013  10665.93  \n",
      "...         ...  \n",
      "23922  13944.93  \n",
      "38999  16712.93  \n",
      "31084  14458.03  \n",
      "4013   18319.93  \n",
      "8755   14895.03  \n",
      "\n",
      "[31685 rows x 49 columns]\n"
     ]
    }
   ],
   "source": [
    "print(train_x)"
   ]
  },
  {
   "cell_type": "code",
   "execution_count": 29,
   "id": "c6ca77bc-154c-4cb3-9251-3fe45d671416",
   "metadata": {},
   "outputs": [
    {
     "name": "stdout",
     "output_type": "stream",
     "text": [
      "현재 제외된 그룹 Group_0 ------현재 모델 MultiOutputRegressor(estimator=LinearRegression()) -----리더보드 스코어   1.9511453506841216\n",
      "현재 제외된 그룹 Group_1 ------현재 모델 MultiOutputRegressor(estimator=LinearRegression()) -----리더보드 스코어   1.9528661279650337\n",
      "현재 제외된 그룹 Group_2 ------현재 모델 MultiOutputRegressor(estimator=LinearRegression()) -----리더보드 스코어   1.9518695158597206\n",
      "현재 제외된 그룹 Group_3 ------현재 모델 MultiOutputRegressor(estimator=LinearRegression()) -----리더보드 스코어   1.9511453506841216\n",
      "현재 제외된 그룹 Group_4 ------현재 모델 MultiOutputRegressor(estimator=LinearRegression()) -----리더보드 스코어   1.9514004578070594\n",
      "현재 제외된 그룹 Group_5 ------현재 모델 MultiOutputRegressor(estimator=LinearRegression()) -----리더보드 스코어   1.9516857612752934\n",
      "현재 제외된 그룹 Group_6 ------현재 모델 MultiOutputRegressor(estimator=LinearRegression()) -----리더보드 스코어   1.9511141751591887\n",
      "현재 제외된 그룹 Group_7 ------현재 모델 MultiOutputRegressor(estimator=LinearRegression()) -----리더보드 스코어   1.9555354695733382\n",
      "현재 제외된 그룹 Group_8 ------현재 모델 MultiOutputRegressor(estimator=LinearRegression()) -----리더보드 스코어   1.9574493434931923\n",
      "현재 제외된 그룹 Group_9 ------현재 모델 MultiOutputRegressor(estimator=LinearRegression()) -----리더보드 스코어   1.9529804775085235\n",
      "현재 제외된 그룹 Group_10 ------현재 모델 MultiOutputRegressor(estimator=LinearRegression()) -----리더보드 스코어   1.9537037149048635\n",
      "현재 제외된 그룹 Group_11 ------현재 모델 MultiOutputRegressor(estimator=LinearRegression()) -----리더보드 스코어   1.9511726530391535\n",
      "현재 제외된 그룹 Group_12 ------현재 모델 MultiOutputRegressor(estimator=LinearRegression()) -----리더보드 스코어   1.9517538882160044\n",
      "현재 제외된 그룹 Group_13 ------현재 모델 MultiOutputRegressor(estimator=LinearRegression()) -----리더보드 스코어   1.9528069991297055\n",
      "현재 제외된 그룹 Group_14 ------현재 모델 MultiOutputRegressor(estimator=LinearRegression()) -----리더보드 스코어   1.9514153222249635\n",
      "현재 제외된 그룹 Group_15 ------현재 모델 MultiOutputRegressor(estimator=LinearRegression()) -----리더보드 스코어   1.9514307363950356\n",
      "현재 제외된 그룹 Group_16 ------현재 모델 MultiOutputRegressor(estimator=LinearRegression()) -----리더보드 스코어   1.9516518531175293\n",
      "현재 제외된 그룹 Group_17 ------현재 모델 MultiOutputRegressor(estimator=LinearRegression()) -----리더보드 스코어   1.9541154703917962\n",
      "Done.\n"
     ]
    }
   ],
   "source": [
    "extract_Group = []\n",
    "scores = []\n",
    "now_model = []\n",
    "for i in range(0,18):\n",
    "    if i >= 1:\n",
    "        train_x = train_df.filter(regex='X').drop(columns=group_dict['Group_%d'%i])\n",
    "        valid_x = valid_df.filter(regex='X').drop(columns=group_dict['Group_%d'%i])\n",
    "    LR = MultiOutputRegressor(LinearRegression()).fit(train_x, train_y)\n",
    "    valid_preds = LR.predict(valid_x)\n",
    "    score = lg_nrmse(valid_y.values,np.round(valid_preds,2))\n",
    "    extract_Group.append('Group_%d'%i)\n",
    "    scores.append(score)\n",
    "    now_model.append(LR)\n",
    "\n",
    "    print(\"현재 제외된 그룹\",'Group_%d'%i,\"------현재 모델\",LR,'-----리더보드 스코어  ',score)\n",
    "print('Done.')"
   ]
  },
  {
   "cell_type": "code",
   "execution_count": 78,
   "id": "a16206df",
   "metadata": {},
   "outputs": [
    {
     "data": {
      "text/plain": [
       "<matplotlib.legend.Legend at 0x1eb35cf8670>"
      ]
     },
     "execution_count": 78,
     "metadata": {},
     "output_type": "execute_result"
    },
    {
     "data": {
      "image/png": "[encoded data removed]",
      "text/plain": [
       "<Figure size 2160x576 with 1 Axes>"
      ]
     },
     "metadata": {
      "needs_background": "light"
     },
     "output_type": "display_data"
    }
   ],
   "source": [
    "import matplotlib.pyplot as plt\n",
    "result_LR = pd.DataFrame()\n",
    "\n",
    "result_LR[\"제외된 컬럼\"] = extract_Group\n",
    "result_LR[\"현재 모델\"] = now_model\n",
    "result_LR[\"리더보드 스코어\"] = scores\n",
    "xs = result_LR[\"제외된 컬럼\"].to_list()\n",
    "ys = result_LR[\"리더보드 스코어\"].to_list()\n",
    "plt.figure(figsize=(30, 8))\n",
    "plt.plot(xs, ys, 'o-', ms=3, lw=1, label='columns')\n",
    "plt.axhspan(ymin=min(ys), ymax=ys[0], alpha=0.2, color='red')\n",
    "plt.legend()\n",
    "# X_00는 아무것도 제거하지 않았을때이다."
   ]
  },
  {
   "cell_type": "markdown",
   "id": "d8ddc03e-78a5-4ffe-acdb-7c97e9b5fe09",
   "metadata": {},
   "source": [
    "## xgb Model Fit"
   ]
  },
  {
   "cell_type": "code",
   "execution_count": 47,
   "id": "f6728063",
   "metadata": {},
   "outputs": [],
   "source": [
    "import os\n",
    "os.environ[\"CUDA_VISIBLE_DEVICES\"]=\"1\"\n",
    "# 출처: https://eehoeskrap.tistory.com/498 [Enough is not enough:티스토리]"
   ]
  },
  {
   "cell_type": "code",
   "execution_count": 48,
   "id": "e1ebf764",
   "metadata": {},
   "outputs": [
    {
     "name": "stdout",
     "output_type": "stream",
     "text": [
      "현재 제외된 그룹 Group_0 ------현재 모델 MultiOutputRegressor(estimator=XGBRegressor(base_score=None, booster=None,\n",
      "                                            callbacks=None,\n",
      "                                            colsample_bylevel=None,\n",
      "                                            colsample_bynode=None,\n",
      "                                            colsample_bytree=1,\n",
      "                                            early_stopping_rounds=None,\n",
      "                                            enable_categorical=False,\n",
      "                                            eval_metric=None, gamma=0,\n",
      "                                            gpu_id=None, grow_policy=None,\n",
      "                                            importance_type=None,\n",
      "                                            interaction_constraints=None,\n",
      "                                            learning_rate=0.08, max_bin=None,\n",
      "                                            max_cat_to_onehot=None,\n",
      "                                            max_delta_step=None, max_depth=7,\n",
      "                                            max_leaves=None,\n",
      "                                            min_child_weight=None, missing=nan,\n",
      "                                            monotone_constraints=None,\n",
      "                                            n_estimators=100, n_jobs=None,\n",
      "                                            num_parallel_tree=None,\n",
      "                                            predictor=None, random_state=None,\n",
      "                                            reg_alpha=None, reg_lambda=None, ...)) -----리더보드 스코어   1.9315507764462816\n",
      "Done.\n"
     ]
    }
   ],
   "source": [
    "import xgboost as xgb\n",
    "extract_Group = []\n",
    "scores = []\n",
    "now_model = []\n",
    "for i in range(0,1):\n",
    "    if i >= 1:\n",
    "        train_x = train_df.filter(regex='X').drop(columns=group_dict['Group_%d'%i])\n",
    "        valid_x = valid_df.filter(regex='X').drop(columns=group_dict['Group_%d'%i])\n",
    "    XGB = MultiOutputRegressor(xgb.XGBRegressor(n_estimators=100, learning_rate=0.08, gamma = 0, subsample=0.75, colsample_bytree = 1, max_depth=7)).fit(train_x, train_y)\n",
    "    valid_preds = XGB.predict(valid_x)\n",
    "    score = lg_nrmse(valid_y.values,valid_preds)\n",
    "    extract_Group.append('Group_%d'%i)\n",
    "    scores.append(score)\n",
    "    now_model.append(XGB)\n",
    "\n",
    "    print(\"현재 제외된 그룹\",'Group_%d'%i,\"------현재 모델\",XGB,'-----리더보드 스코어  ',score)\n",
    "print('Done.')"
   ]
  },
  {
   "cell_type": "code",
   "execution_count": 49,
   "id": "997301eb",
   "metadata": {},
   "outputs": [
    {
     "data": {
      "text/plain": [
       "<matplotlib.legend.Legend at 0x1eb34f89430>"
      ]
     },
     "execution_count": 49,
     "metadata": {},
     "output_type": "execute_result"
    },
    {
     "data": {
      "image/png": "[encoded data removed]",
      "text/plain": [
       "<Figure size 2160x576 with 1 Axes>"
      ]
     },
     "metadata": {
      "needs_background": "light"
     },
     "output_type": "display_data"
    }
   ],
   "source": [
    "import matplotlib.pyplot as plt\n",
    "result_xgb = pd.DataFrame()\n",
    "\n",
    "result_xgb[\"제외된 컬럼\"] = extract_Group\n",
    "result_xgb[\"현재 모델\"] = now_model\n",
    "result_xgb[\"리더보드 스코어\"] = scores\n",
    "xs = result_xgb[\"제외된 컬럼\"].to_list()\n",
    "ys = result_xgb[\"리더보드 스코어\"].to_list()\n",
    "plt.figure(figsize=(30, 8))\n",
    "plt.plot(xs, ys, 'o-', ms=3, lw=1, label='xgb_models')\n",
    "\n",
    "plt.axhspan(ymin=min(ys), ymax=ys[0], alpha=0.2, color='red')\n",
    "plt.legend()\n",
    "# X_00는 아무것도 제거하지 않았을때이다."
   ]
  },
  {
   "cell_type": "code",
   "execution_count": 40,
   "id": "0ac38074",
   "metadata": {},
   "outputs": [],
   "source": [
    "test_x = pd.read_csv('./test.csv').drop(columns=['ID'])"
   ]
  },
  {
   "cell_type": "code",
   "execution_count": 44,
   "id": "fe0ad7df",
   "metadata": {},
   "outputs": [
    {
     "name": "stdout",
     "output_type": "stream",
     "text": [
      "Done.\n"
     ]
    }
   ],
   "source": [
    "\n",
    "test_x = test_x.drop(columns=[\"X_50\", \"X_51\", \"X_52\", \"X_53\", \"X_54\", \"X_55\", \"X_56\"])\n",
    "\n",
    "preds = XGB.predict(test_x)\n",
    "print('Done.')"
   ]
  },
  {
   "cell_type": "markdown",
   "id": "67438f50",
   "metadata": {},
   "source": [
    "## lightgbm Model Fit"
   ]
  },
  {
   "cell_type": "code",
   "execution_count": null,
   "id": "a8505a50",
   "metadata": {},
   "outputs": [],
   "source": [
    "!pip install lightgbm"
   ]
  },
  {
   "cell_type": "code",
   "execution_count": 59,
   "id": "ac73c452",
   "metadata": {},
   "outputs": [
    {
     "name": "stdout",
     "output_type": "stream",
     "text": [
      "MAE: 1.133 (0.207)\n"
     ]
    }
   ],
   "source": [
    "from numpy import mean\n",
    "from numpy import std\n",
    "from numpy import absolute\n",
    "from sklearn.datasets import make_regression\n",
    "from sklearn.model_selection import cross_val_score\n",
    "from sklearn.model_selection import RepeatedKFold\n",
    "from sklearn.multioutput import MultiOutputRegressor\n",
    "from sklearn.svm import LinearSVR\n",
    "\n",
    "# define base model\n",
    "model = LinearSVR()\n",
    "# define the direct multioutput wrapper model\n",
    "wrapper = MultiOutputRegressor(model)\n",
    "# define the evaluation procedure\n",
    "cv = RepeatedKFold(n_splits=10, n_repeats=3, random_state=1)\n",
    "# evaluate the model and collect the scores\n",
    "n_scores = cross_val_score(wrapper, train_x, train_y, scoring='neg_mean_absolute_error', cv=cv, n_jobs=-1)\n",
    "# force the scores to be positive\n",
    "n_scores = absolute(n_scores)\n",
    "# summarize performance\n",
    "print('MAE: %.3f (%.3f)' % (mean(n_scores), std(n_scores)))"
   ]
  },
  {
   "cell_type": "markdown",
   "id": "6f41cc9f-5cc4-4b03-9640-8c1982a7acad",
   "metadata": {},
   "source": [
    "## Submit"
   ]
  },
  {
   "cell_type": "code",
   "execution_count": 62,
   "id": "92cc6683",
   "metadata": {},
   "outputs": [
    {
     "ename": "NotFittedError",
     "evalue": "This MultiOutputRegressor instance is not fitted yet. Call 'fit' with appropriate arguments before using this estimator.",
     "output_type": "error",
     "traceback": [
      "\u001b[1;31m---------------------------------------------------------------------------\u001b[0m",
      "\u001b[1;31mNotFittedError\u001b[0m                            Traceback (most recent call last)",
      "\u001b[1;32mC:\\Users\\Public\\Documents\\ESTsoft\\CreatorTemp/ipykernel_24656/1892762166.py\u001b[0m in \u001b[0;36m<module>\u001b[1;34m\u001b[0m\n\u001b[1;32m----> 1\u001b[1;33m \u001b[0mvalid_preds\u001b[0m \u001b[1;33m=\u001b[0m \u001b[0mwrapper\u001b[0m\u001b[1;33m.\u001b[0m\u001b[0mpredict\u001b[0m\u001b[1;33m(\u001b[0m\u001b[0mvalid_x\u001b[0m\u001b[1;33m)\u001b[0m\u001b[1;33m\u001b[0m\u001b[1;33m\u001b[0m\u001b[0m\n\u001b[0m\u001b[0;32m      2\u001b[0m \u001b[0mscore\u001b[0m \u001b[1;33m=\u001b[0m \u001b[0mlg_nrmse\u001b[0m\u001b[1;33m(\u001b[0m\u001b[0mvalid_y\u001b[0m\u001b[1;33m.\u001b[0m\u001b[0mvalues\u001b[0m\u001b[1;33m,\u001b[0m\u001b[0mvalid_preds\u001b[0m\u001b[1;33m)\u001b[0m\u001b[1;33m\u001b[0m\u001b[1;33m\u001b[0m\u001b[0m\n",
      "\u001b[1;32mc:\\Users\\user\\anaconda3\\lib\\site-packages\\sklearn\\multioutput.py\u001b[0m in \u001b[0;36mpredict\u001b[1;34m(self, X)\u001b[0m\n\u001b[0;32m    198\u001b[0m             \u001b[0mNote\u001b[0m\u001b[1;33m:\u001b[0m \u001b[0mSeparate\u001b[0m \u001b[0mmodels\u001b[0m \u001b[0mare\u001b[0m \u001b[0mgenerated\u001b[0m \u001b[1;32mfor\u001b[0m \u001b[0meach\u001b[0m \u001b[0mpredictor\u001b[0m\u001b[1;33m.\u001b[0m\u001b[1;33m\u001b[0m\u001b[1;33m\u001b[0m\u001b[0m\n\u001b[0;32m    199\u001b[0m         \"\"\"\n\u001b[1;32m--> 200\u001b[1;33m         \u001b[0mcheck_is_fitted\u001b[0m\u001b[1;33m(\u001b[0m\u001b[0mself\u001b[0m\u001b[1;33m)\u001b[0m\u001b[1;33m\u001b[0m\u001b[1;33m\u001b[0m\u001b[0m\n\u001b[0m\u001b[0;32m    201\u001b[0m         \u001b[1;32mif\u001b[0m \u001b[1;32mnot\u001b[0m \u001b[0mhasattr\u001b[0m\u001b[1;33m(\u001b[0m\u001b[0mself\u001b[0m\u001b[1;33m.\u001b[0m\u001b[0mestimator\u001b[0m\u001b[1;33m,\u001b[0m \u001b[1;34m\"predict\"\u001b[0m\u001b[1;33m)\u001b[0m\u001b[1;33m:\u001b[0m\u001b[1;33m\u001b[0m\u001b[1;33m\u001b[0m\u001b[0m\n\u001b[0;32m    202\u001b[0m             raise ValueError(\"The base estimator should implement\"\n",
      "\u001b[1;32mc:\\Users\\user\\anaconda3\\lib\\site-packages\\sklearn\\utils\\validation.py\u001b[0m in \u001b[0;36minner_f\u001b[1;34m(*args, **kwargs)\u001b[0m\n\u001b[0;32m     61\u001b[0m             \u001b[0mextra_args\u001b[0m \u001b[1;33m=\u001b[0m \u001b[0mlen\u001b[0m\u001b[1;33m(\u001b[0m\u001b[0margs\u001b[0m\u001b[1;33m)\u001b[0m \u001b[1;33m-\u001b[0m \u001b[0mlen\u001b[0m\u001b[1;33m(\u001b[0m\u001b[0mall_args\u001b[0m\u001b[1;33m)\u001b[0m\u001b[1;33m\u001b[0m\u001b[1;33m\u001b[0m\u001b[0m\n\u001b[0;32m     62\u001b[0m             \u001b[1;32mif\u001b[0m \u001b[0mextra_args\u001b[0m \u001b[1;33m<=\u001b[0m \u001b[1;36m0\u001b[0m\u001b[1;33m:\u001b[0m\u001b[1;33m\u001b[0m\u001b[1;33m\u001b[0m\u001b[0m\n\u001b[1;32m---> 63\u001b[1;33m                 \u001b[1;32mreturn\u001b[0m \u001b[0mf\u001b[0m\u001b[1;33m(\u001b[0m\u001b[1;33m*\u001b[0m\u001b[0margs\u001b[0m\u001b[1;33m,\u001b[0m \u001b[1;33m**\u001b[0m\u001b[0mkwargs\u001b[0m\u001b[1;33m)\u001b[0m\u001b[1;33m\u001b[0m\u001b[1;33m\u001b[0m\u001b[0m\n\u001b[0m\u001b[0;32m     64\u001b[0m \u001b[1;33m\u001b[0m\u001b[0m\n\u001b[0;32m     65\u001b[0m             \u001b[1;31m# extra_args > 0\u001b[0m\u001b[1;33m\u001b[0m\u001b[1;33m\u001b[0m\u001b[1;33m\u001b[0m\u001b[0m\n",
      "\u001b[1;32mc:\\Users\\user\\anaconda3\\lib\\site-packages\\sklearn\\utils\\validation.py\u001b[0m in \u001b[0;36mcheck_is_fitted\u001b[1;34m(estimator, attributes, msg, all_or_any)\u001b[0m\n\u001b[0;32m   1039\u001b[0m \u001b[1;33m\u001b[0m\u001b[0m\n\u001b[0;32m   1040\u001b[0m     \u001b[1;32mif\u001b[0m \u001b[1;32mnot\u001b[0m \u001b[0mattrs\u001b[0m\u001b[1;33m:\u001b[0m\u001b[1;33m\u001b[0m\u001b[1;33m\u001b[0m\u001b[0m\n\u001b[1;32m-> 1041\u001b[1;33m         \u001b[1;32mraise\u001b[0m \u001b[0mNotFittedError\u001b[0m\u001b[1;33m(\u001b[0m\u001b[0mmsg\u001b[0m \u001b[1;33m%\u001b[0m \u001b[1;33m{\u001b[0m\u001b[1;34m'name'\u001b[0m\u001b[1;33m:\u001b[0m \u001b[0mtype\u001b[0m\u001b[1;33m(\u001b[0m\u001b[0mestimator\u001b[0m\u001b[1;33m)\u001b[0m\u001b[1;33m.\u001b[0m\u001b[0m__name__\u001b[0m\u001b[1;33m}\u001b[0m\u001b[1;33m)\u001b[0m\u001b[1;33m\u001b[0m\u001b[1;33m\u001b[0m\u001b[0m\n\u001b[0m\u001b[0;32m   1042\u001b[0m \u001b[1;33m\u001b[0m\u001b[0m\n\u001b[0;32m   1043\u001b[0m \u001b[1;33m\u001b[0m\u001b[0m\n",
      "\u001b[1;31mNotFittedError\u001b[0m: This MultiOutputRegressor instance is not fitted yet. Call 'fit' with appropriate arguments before using this estimator."
     ]
    }
   ],
   "source": [
    "valid_preds = wrapper.predict(valid_x)\n",
    "score = lg_nrmse(valid_y.values,valid_preds)"
   ]
  },
  {
   "cell_type": "code",
   "execution_count": 45,
   "id": "20c5e156-d7c4-400f-b552-0bb86ebfd3e3",
   "metadata": {},
   "outputs": [],
   "source": [
    "submit = pd.read_csv('./sample_submission.csv')"
   ]
  },
  {
   "cell_type": "code",
   "execution_count": 46,
   "id": "5b869ab6-6852-45a1-bc75-39dee40b583f",
   "metadata": {},
   "outputs": [
    {
     "name": "stdout",
     "output_type": "stream",
     "text": [
      "Done.\n"
     ]
    }
   ],
   "source": [
    "\n",
    "for idx, col in enumerate(submit.columns):\n",
    "    if col=='ID':\n",
    "        continue\n",
    "    submit[col] = preds[:,idx-1]\n",
    "print('Done.')"
   ]
  },
  {
   "cell_type": "code",
   "execution_count": 47,
   "id": "026b00cd-5680-4bf2-b7f8-0bea6ae8299e",
   "metadata": {},
   "outputs": [],
   "source": [
    "submit.to_csv('./submit.csv', index=False)"
   ]
  },
  {
   "cell_type": "code",
   "execution_count": null,
   "id": "385f7208",
   "metadata": {},
   "outputs": [],
   "source": []
  }
 ],
 "metadata": {
  "kernelspec": {
   "display_name": "Python 3.8.8 ('base')",
   "language": "python",
   "name": "python3"
  },
  "language_info": {
   "codemirror_mode": {
    "name": "ipython",
    "version": 3
   },
   "file_extension": ".py",
   "mimetype": "text/x-python",
   "name": "python",
   "nbconvert_exporter": "python",
   "pygments_lexer": "ipython3",
   "version": "3.8.8"
  },
  "vscode": {
   "interpreter": {
    "hash": "a077222d77dfe082b8f1dd562ad70e458ac2ab76993a0b248ab0476e32e9e8dd"
   }
  }
 },
 "nbformat": 4,
 "nbformat_minor": 5
}
