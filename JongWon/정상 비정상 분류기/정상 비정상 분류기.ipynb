{
 "cells": [
  {
   "cell_type": "code",
   "execution_count": 58,
   "metadata": {},
   "outputs": [],
   "source": [
    "import pandas as pd\n",
    "import matplotlib.pyplot as plt\n",
    "import seaborn as sns\n",
    "import numpy as np\n",
    "import warnings\n",
    "warnings.filterwarnings('ignore')"
   ]
  },
  {
   "cell_type": "code",
   "execution_count": 59,
   "metadata": {},
   "outputs": [],
   "source": [
    "y_feature_spec_info = pd.read_csv(\"./y_feature_spec_info.csv\")\n",
    "train = pd.read_csv(\"./train.csv\")\n",
    "test = pd.read_csv(\"./test.csv\")"
   ]
  },
  {
   "cell_type": "code",
   "execution_count": 65,
   "metadata": {},
   "outputs": [
    {
     "name": "stdout",
     "output_type": "stream",
     "text": [
      "(94, 71)\n",
      "Y_01 의 비정상 데이터 1476\n",
      "(252, 71)\n",
      "Y_02 의 비정상 데이터 558\n",
      "(261, 71)\n",
      "Y_03 의 비정상 데이터 464\n",
      "(346, 71)\n",
      "Y_04 의 비정상 데이터 500\n",
      "(63, 71)\n",
      "Y_05 의 비정상 데이터 91\n",
      "(10, 71)\n",
      "Y_06 의 비정상 데이터 10\n",
      "(851, 71)\n",
      "Y_07 의 비정상 데이터 1822\n",
      "(18, 71)\n",
      "Y_08 의 비정상 데이터 19\n",
      "(17, 71)\n",
      "Y_09 의 비정상 데이터 19\n",
      "(5, 71)\n",
      "Y_10 의 비정상 데이터 5\n",
      "(0, 71)\n",
      "Y_11 의 비정상 데이터 3\n",
      "(13, 71)\n",
      "Y_12 의 비정상 데이터 16\n",
      "(12, 71)\n",
      "Y_13 의 비정상 데이터 15\n",
      "(12, 71)\n",
      "Y_14 의 비정상 데이터 13\n"
     ]
    },
    {
     "data": {
      "image/png": "[encoded data removed]",
      "text/plain": [
       "<Figure size 640x480 with 1 Axes>"
      ]
     },
     "metadata": {},
     "output_type": "display_data"
    }
   ],
   "source": [
    "#메타데이터 기준 정상치 데이터 필터링 하기\n",
    "count_Y_abnormal_data = []\n",
    "train_abnormal = train\n",
    "for i in range(0,14):\n",
    "    min_up =(train['Y_%02d'%(i+1)] >= y_feature_spec_info[\"최소\"][i])\n",
    "    max_down =(train['Y_%02d'%(i+1)] <= y_feature_spec_info[\"최대\"][i])\n",
    "    \n",
    "    min_down =(train['Y_%02d'%(i+1)] < y_feature_spec_info[\"최소\"][i])\n",
    "    max_up =(train['Y_%02d'%(i+1)] > y_feature_spec_info[\"최대\"][i])\n",
    "\n",
    "    # train_abnormal = train[(min_down) | (max_up)]\n",
    "    train_abnormal = train[(min_down)]\n",
    "    train_normal = train[(min_up) & (max_down)]\n",
    "    print(train_abnormal.shape)\n",
    "    train_normal.to_csv(\"./normal_data/Y_%02d.csv\"%(i+1),index=False)\n",
    "    train_abnormal.to_csv(\"./abnormal_data/Y_%02d.csv\"%(i+1),index=False)\n",
    "    abnormal = train.shape[0] - train[(min_up & max_down)].shape[0]\n",
    "    print('Y_%02d'%(i+1),\"의 비정상 데이터\",abnormal)\n",
    "    count_Y_abnormal_data.append(abnormal)\n",
    "\n",
    "plt.bar(y_feature_spec_info[\"Feature\"].tolist(),count_Y_abnormal_data, align='edge', edgecolor='lightgray',\n",
    "        linewidth=5)\n",
    "\n",
    "\n",
    "plt.show()\n"
   ]
  },
  {
   "cell_type": "markdown",
   "metadata": {},
   "source": [
    "# Y별 정확도"
   ]
  },
  {
   "cell_type": "code",
   "execution_count": 73,
   "metadata": {},
   "outputs": [
    {
     "name": "stdout",
     "output_type": "stream",
     "text": [
      "[[  23    6]\n",
      " [ 563 8965]]\n",
      "Y_01 정상 비정상 예측,94.04624882285236,%\n",
      "[[  13   49]\n",
      " [ 521 9243]]\n",
      "Y_02 정상 비정상 예측,94.1990637085284,%\n",
      "[[   4   70]\n",
      " [ 168 9609]]\n",
      "Y_03 정상 비정상 예측,97.5840016242006,%\n",
      "[[   7   81]\n",
      " [ 338 9438]]\n",
      "Y_04 정상 비정상 예측,95.7522303325223,%\n",
      "[[   2   18]\n",
      " [ 547 9328]]\n",
      "Y_05 정상 비정상 예측,94.2900454775139,%\n",
      "[[   0    2]\n",
      " [  56 9844]]\n",
      "Y_06 정상 비정상 예측,99.41425974550596,%\n",
      "[[  10  205]\n",
      " [ 201 9243]]\n",
      "Y_07 정상 비정상 예측,95.79666632156538,%\n",
      "[[   0    4]\n",
      " [ 387 9511]]\n",
      "Y_08 정상 비정상 예측,96.05130276711775,%\n",
      "[[   0    5]\n",
      " [ 304 9593]]\n",
      "Y_09 정상 비정상 예측,96.87941829933347,%\n"
     ]
    },
    {
     "ename": "ValueError",
     "evalue": "Expected n_neighbors <= n_samples,  but n_samples = 4, n_neighbors = 6",
     "output_type": "error",
     "traceback": [
      "\u001b[1;31m---------------------------------------------------------------------------\u001b[0m",
      "\u001b[1;31mValueError\u001b[0m                                Traceback (most recent call last)",
      "\u001b[1;32m~\\AppData\\Local\\Temp\\ipykernel_12872\\1100098990.py\u001b[0m in \u001b[0;36m<module>\u001b[1;34m\u001b[0m\n\u001b[0;32m     22\u001b[0m \u001b[1;33m\u001b[0m\u001b[0m\n\u001b[0;32m     23\u001b[0m     \u001b[1;31m# 샘플링\u001b[0m\u001b[1;33m\u001b[0m\u001b[1;33m\u001b[0m\u001b[1;33m\u001b[0m\u001b[0m\n\u001b[1;32m---> 24\u001b[1;33m     \u001b[0mX_train\u001b[0m\u001b[1;33m,\u001b[0m \u001b[0my_train\u001b[0m \u001b[1;33m=\u001b[0m \u001b[0msmote\u001b[0m\u001b[1;33m.\u001b[0m\u001b[0mfit_resample\u001b[0m\u001b[1;33m(\u001b[0m\u001b[0mX_train\u001b[0m\u001b[1;33m,\u001b[0m \u001b[0my_train\u001b[0m\u001b[1;33m)\u001b[0m\u001b[1;33m\u001b[0m\u001b[1;33m\u001b[0m\u001b[0m\n\u001b[0m\u001b[0;32m     25\u001b[0m     \u001b[1;32mfrom\u001b[0m \u001b[0mxgboost\u001b[0m \u001b[1;32mimport\u001b[0m \u001b[0mXGBClassifier\u001b[0m\u001b[1;33m\u001b[0m\u001b[1;33m\u001b[0m\u001b[0m\n\u001b[0;32m     26\u001b[0m \u001b[1;33m\u001b[0m\u001b[0m\n",
      "\u001b[1;32mc:\\Users\\DBLab\\anaconda3\\envs\\lg_aimers\\lib\\site-packages\\imblearn\\base.py\u001b[0m in \u001b[0;36mfit_resample\u001b[1;34m(self, X, y)\u001b[0m\n\u001b[0;32m     81\u001b[0m         )\n\u001b[0;32m     82\u001b[0m \u001b[1;33m\u001b[0m\u001b[0m\n\u001b[1;32m---> 83\u001b[1;33m         \u001b[0moutput\u001b[0m \u001b[1;33m=\u001b[0m \u001b[0mself\u001b[0m\u001b[1;33m.\u001b[0m\u001b[0m_fit_resample\u001b[0m\u001b[1;33m(\u001b[0m\u001b[0mX\u001b[0m\u001b[1;33m,\u001b[0m \u001b[0my\u001b[0m\u001b[1;33m)\u001b[0m\u001b[1;33m\u001b[0m\u001b[1;33m\u001b[0m\u001b[0m\n\u001b[0m\u001b[0;32m     84\u001b[0m \u001b[1;33m\u001b[0m\u001b[0m\n\u001b[0;32m     85\u001b[0m         y_ = (\n",
      "\u001b[1;32mc:\\Users\\DBLab\\anaconda3\\envs\\lg_aimers\\lib\\site-packages\\imblearn\\over_sampling\\_smote\\base.py\u001b[0m in \u001b[0;36m_fit_resample\u001b[1;34m(self, X, y)\u001b[0m\n\u001b[0;32m    322\u001b[0m \u001b[1;33m\u001b[0m\u001b[0m\n\u001b[0;32m    323\u001b[0m             \u001b[0mself\u001b[0m\u001b[1;33m.\u001b[0m\u001b[0mnn_k_\u001b[0m\u001b[1;33m.\u001b[0m\u001b[0mfit\u001b[0m\u001b[1;33m(\u001b[0m\u001b[0mX_class\u001b[0m\u001b[1;33m)\u001b[0m\u001b[1;33m\u001b[0m\u001b[1;33m\u001b[0m\u001b[0m\n\u001b[1;32m--> 324\u001b[1;33m             \u001b[0mnns\u001b[0m \u001b[1;33m=\u001b[0m \u001b[0mself\u001b[0m\u001b[1;33m.\u001b[0m\u001b[0mnn_k_\u001b[0m\u001b[1;33m.\u001b[0m\u001b[0mkneighbors\u001b[0m\u001b[1;33m(\u001b[0m\u001b[0mX_class\u001b[0m\u001b[1;33m,\u001b[0m \u001b[0mreturn_distance\u001b[0m\u001b[1;33m=\u001b[0m\u001b[1;32mFalse\u001b[0m\u001b[1;33m)\u001b[0m\u001b[1;33m[\u001b[0m\u001b[1;33m:\u001b[0m\u001b[1;33m,\u001b[0m \u001b[1;36m1\u001b[0m\u001b[1;33m:\u001b[0m\u001b[1;33m]\u001b[0m\u001b[1;33m\u001b[0m\u001b[1;33m\u001b[0m\u001b[0m\n\u001b[0m\u001b[0;32m    325\u001b[0m             X_new, y_new = self._make_samples(\n\u001b[0;32m    326\u001b[0m                 \u001b[0mX_class\u001b[0m\u001b[1;33m,\u001b[0m \u001b[0my\u001b[0m\u001b[1;33m.\u001b[0m\u001b[0mdtype\u001b[0m\u001b[1;33m,\u001b[0m \u001b[0mclass_sample\u001b[0m\u001b[1;33m,\u001b[0m \u001b[0mX_class\u001b[0m\u001b[1;33m,\u001b[0m \u001b[0mnns\u001b[0m\u001b[1;33m,\u001b[0m \u001b[0mn_samples\u001b[0m\u001b[1;33m,\u001b[0m \u001b[1;36m1.0\u001b[0m\u001b[1;33m\u001b[0m\u001b[1;33m\u001b[0m\u001b[0m\n",
      "\u001b[1;32mc:\\Users\\DBLab\\anaconda3\\envs\\lg_aimers\\lib\\site-packages\\sklearn\\neighbors\\_base.py\u001b[0m in \u001b[0;36mkneighbors\u001b[1;34m(self, X, n_neighbors, return_distance)\u001b[0m\n\u001b[0;32m    727\u001b[0m             raise ValueError(\n\u001b[0;32m    728\u001b[0m                 \u001b[1;34m\"Expected n_neighbors <= n_samples, \"\u001b[0m\u001b[1;33m\u001b[0m\u001b[1;33m\u001b[0m\u001b[0m\n\u001b[1;32m--> 729\u001b[1;33m                 \u001b[1;34m\" but n_samples = %d, n_neighbors = %d\"\u001b[0m \u001b[1;33m%\u001b[0m \u001b[1;33m(\u001b[0m\u001b[0mn_samples_fit\u001b[0m\u001b[1;33m,\u001b[0m \u001b[0mn_neighbors\u001b[0m\u001b[1;33m)\u001b[0m\u001b[1;33m\u001b[0m\u001b[1;33m\u001b[0m\u001b[0m\n\u001b[0m\u001b[0;32m    730\u001b[0m             )\n\u001b[0;32m    731\u001b[0m \u001b[1;33m\u001b[0m\u001b[0m\n",
      "\u001b[1;31mValueError\u001b[0m: Expected n_neighbors <= n_samples,  but n_samples = 4, n_neighbors = 6"
     ]
    }
   ],
   "source": [
    "# imbalanced-learn 패키지\n",
    "from imblearn.over_sampling import SMOTE\n",
    "for i in range(1,15):\n",
    "    # Y_01 정상 비정상을 활용한 정상 비정상 매핑\n",
    "    normal_data = pd.read_csv(\"./normal_data/Y_%02d.csv\"%i)\n",
    "    abnormal_data = pd.read_csv(\"./abnormal_data/Y_%02d.csv\"%i)\n",
    "    normal_data[\"target\"] = 1\n",
    "    abnormal_data[\"target\"] = 0\n",
    "    new_data_Y_01 = pd.concat([normal_data, abnormal_data], ignore_index = True)\n",
    "\n",
    "    import pandas as pd\n",
    "    from sklearn.model_selection import train_test_split\n",
    "\n",
    "\n",
    "    train_df = new_data_Y_01.filter(regex=\"X\")\n",
    "\n",
    "    # train, test 데이터셋 분리\n",
    "    X_train, X_test, y_train, y_test = train_test_split(train_df, new_data_Y_01[\"target\"], \n",
    "                                                        test_size = 0.25, random_state = 32)\n",
    "    # SMOTE 객체 생성\n",
    "    smote = SMOTE(random_state=42)\n",
    "\n",
    "    # 샘플링\n",
    "    X_train, y_train = smote.fit_resample(X_train, y_train)\n",
    "    from xgboost import XGBClassifier\n",
    "\n",
    "    # 모델 선언 예시\n",
    "    model = XGBClassifier(n_estimators=100, learning_rate=0.05, max_depth=2, random_state = 32)\n",
    "    model.fit(X_train, y_train)\n",
    "    from sklearn.metrics import accuracy_score\n",
    "\n",
    "    y_pred = model.predict(X_test) # 예측 라벨(0과 1로 예측)\n",
    "    from sklearn.metrics import confusion_matrix\n",
    "    # cf = confusion_matrix(y_test, y_pred)\n",
    "    cf = confusion_matrix(y_test, y_pred)\n",
    "    print(cf)\n",
    "    # 예측 라벨과 실제 라벨 사이의 정확도 측정\n",
    "    print(\"Y_%02d 정상 비정상 예측\"%i,accuracy_score(y_pred, y_test)*100,\"%\",sep=\",\") # 0.7847533632286996"
   ]
  },
  {
   "cell_type": "code",
   "execution_count": 75,
   "metadata": {},
   "outputs": [
    {
     "name": "stdout",
     "output_type": "stream",
     "text": [
      "(1382, 71)\n",
      "Y_01 의 비정상 데이터 1476\n",
      "(306, 71)\n",
      "Y_02 의 비정상 데이터 558\n",
      "(203, 71)\n",
      "Y_03 의 비정상 데이터 464\n",
      "(154, 71)\n",
      "Y_04 의 비정상 데이터 500\n",
      "(28, 71)\n",
      "Y_05 의 비정상 데이터 91\n",
      "(0, 71)\n",
      "Y_06 의 비정상 데이터 10\n",
      "(971, 71)\n",
      "Y_07 의 비정상 데이터 1822\n",
      "(1, 71)\n",
      "Y_08 의 비정상 데이터 19\n",
      "(2, 71)\n",
      "Y_09 의 비정상 데이터 19\n",
      "(0, 71)\n",
      "Y_10 의 비정상 데이터 5\n",
      "(3, 71)\n",
      "Y_11 의 비정상 데이터 3\n",
      "(3, 71)\n",
      "Y_12 의 비정상 데이터 16\n",
      "(3, 71)\n",
      "Y_13 의 비정상 데이터 15\n",
      "(1, 71)\n",
      "Y_14 의 비정상 데이터 13\n"
     ]
    },
    {
     "data": {
      "image/png": "[encoded data removed]",
      "text/plain": [
       "<Figure size 640x480 with 1 Axes>"
      ]
     },
     "metadata": {},
     "output_type": "display_data"
    }
   ],
   "source": [
    "#메타데이터 기준 정상치 데이터 필터링 하기\n",
    "count_Y_abnormal_data = []\n",
    "train_abnormal = train\n",
    "for i in range(0,14):\n",
    "    min_up =(train['Y_%02d'%(i+1)] >= y_feature_spec_info[\"최소\"][i])\n",
    "    max_down =(train['Y_%02d'%(i+1)] <= y_feature_spec_info[\"최대\"][i])\n",
    "    \n",
    "    min_down =(train['Y_%02d'%(i+1)] < y_feature_spec_info[\"최소\"][i])\n",
    "    max_up =(train['Y_%02d'%(i+1)] > y_feature_spec_info[\"최대\"][i])\n",
    "\n",
    "    train_abnormal = train[ (max_up)]\n",
    "\n",
    "    train_normal = train[(min_up) & (max_down)]\n",
    "    print(train_abnormal.shape)\n",
    "    train_normal.to_csv(\"./normal_data/Y_%02d.csv\"%(i+1),index=False)\n",
    "    train_abnormal.to_csv(\"./abnormal_data/Y_%02d.csv\"%(i+1),index=False)\n",
    "    abnormal = train.shape[0] - train[(min_up & max_down)].shape[0]\n",
    "    print('Y_%02d'%(i+1),\"의 비정상 데이터\",abnormal)\n",
    "    count_Y_abnormal_data.append(abnormal)\n",
    "\n",
    "plt.bar(y_feature_spec_info[\"Feature\"].tolist(),count_Y_abnormal_data, align='edge', edgecolor='lightgray',\n",
    "        linewidth=5)\n",
    "\n",
    "\n",
    "plt.show()\n"
   ]
  },
  {
   "cell_type": "code",
   "execution_count": 76,
   "metadata": {},
   "outputs": [
    {
     "name": "stdout",
     "output_type": "stream",
     "text": [
      "[[   0  324]\n",
      " [  28 9527]]\n",
      "Y_01 정상 비정상 예측,96.43688632452677,%\n",
      "[[   3   86]\n",
      " [ 161 9589]]\n",
      "Y_02 정상 비정상 예측,97.4895822746214,%\n",
      "[[   3   51]\n",
      " [ 338 9445]]\n",
      "Y_03 정상 비정상 예측,96.04554234014435,%\n",
      "[[   3   36]\n",
      " [ 617 9160]]\n",
      "Y_04 정상 비정상 예측,93.34759576202119,%\n",
      "[[   0    8]\n",
      " [ 650 9228]]\n",
      "Y_05 정상 비정상 예측,93.34412300222536,%\n"
     ]
    },
    {
     "ename": "ValueError",
     "evalue": "The target 'y' needs to have more than 1 class. Got 1 class instead",
     "output_type": "error",
     "traceback": [
      "\u001b[1;31m---------------------------------------------------------------------------\u001b[0m",
      "\u001b[1;31mValueError\u001b[0m                                Traceback (most recent call last)",
      "\u001b[1;32m~\\AppData\\Local\\Temp\\ipykernel_12872\\4045345507.py\u001b[0m in \u001b[0;36m<module>\u001b[1;34m\u001b[0m\n\u001b[0;32m     22\u001b[0m \u001b[1;33m\u001b[0m\u001b[0m\n\u001b[0;32m     23\u001b[0m     \u001b[1;31m# 샘플링\u001b[0m\u001b[1;33m\u001b[0m\u001b[1;33m\u001b[0m\u001b[1;33m\u001b[0m\u001b[0m\n\u001b[1;32m---> 24\u001b[1;33m     \u001b[0mX_train\u001b[0m\u001b[1;33m,\u001b[0m \u001b[0my_train\u001b[0m \u001b[1;33m=\u001b[0m \u001b[0msmote\u001b[0m\u001b[1;33m.\u001b[0m\u001b[0mfit_resample\u001b[0m\u001b[1;33m(\u001b[0m\u001b[0mX_train\u001b[0m\u001b[1;33m,\u001b[0m \u001b[0my_train\u001b[0m\u001b[1;33m)\u001b[0m\u001b[1;33m\u001b[0m\u001b[1;33m\u001b[0m\u001b[0m\n\u001b[0m\u001b[0;32m     25\u001b[0m     \u001b[1;32mfrom\u001b[0m \u001b[0mxgboost\u001b[0m \u001b[1;32mimport\u001b[0m \u001b[0mXGBClassifier\u001b[0m\u001b[1;33m\u001b[0m\u001b[1;33m\u001b[0m\u001b[0m\n\u001b[0;32m     26\u001b[0m \u001b[1;33m\u001b[0m\u001b[0m\n",
      "\u001b[1;32mc:\\Users\\DBLab\\anaconda3\\envs\\lg_aimers\\lib\\site-packages\\imblearn\\base.py\u001b[0m in \u001b[0;36mfit_resample\u001b[1;34m(self, X, y)\u001b[0m\n\u001b[0;32m     78\u001b[0m \u001b[1;33m\u001b[0m\u001b[0m\n\u001b[0;32m     79\u001b[0m         self.sampling_strategy_ = check_sampling_strategy(\n\u001b[1;32m---> 80\u001b[1;33m             \u001b[0mself\u001b[0m\u001b[1;33m.\u001b[0m\u001b[0msampling_strategy\u001b[0m\u001b[1;33m,\u001b[0m \u001b[0my\u001b[0m\u001b[1;33m,\u001b[0m \u001b[0mself\u001b[0m\u001b[1;33m.\u001b[0m\u001b[0m_sampling_type\u001b[0m\u001b[1;33m\u001b[0m\u001b[1;33m\u001b[0m\u001b[0m\n\u001b[0m\u001b[0;32m     81\u001b[0m         )\n\u001b[0;32m     82\u001b[0m \u001b[1;33m\u001b[0m\u001b[0m\n",
      "\u001b[1;32mc:\\Users\\DBLab\\anaconda3\\envs\\lg_aimers\\lib\\site-packages\\imblearn\\utils\\_validation.py\u001b[0m in \u001b[0;36mcheck_sampling_strategy\u001b[1;34m(sampling_strategy, y, sampling_type, **kwargs)\u001b[0m\n\u001b[0;32m    499\u001b[0m     \u001b[1;32mif\u001b[0m \u001b[0mnp\u001b[0m\u001b[1;33m.\u001b[0m\u001b[0munique\u001b[0m\u001b[1;33m(\u001b[0m\u001b[0my\u001b[0m\u001b[1;33m)\u001b[0m\u001b[1;33m.\u001b[0m\u001b[0msize\u001b[0m \u001b[1;33m<=\u001b[0m \u001b[1;36m1\u001b[0m\u001b[1;33m:\u001b[0m\u001b[1;33m\u001b[0m\u001b[1;33m\u001b[0m\u001b[0m\n\u001b[0;32m    500\u001b[0m         raise ValueError(\n\u001b[1;32m--> 501\u001b[1;33m             \u001b[1;34mf\"The target 'y' needs to have more than 1 class. \"\u001b[0m\u001b[1;33m\u001b[0m\u001b[1;33m\u001b[0m\u001b[0m\n\u001b[0m\u001b[0;32m    502\u001b[0m             \u001b[1;34mf\"Got {np.unique(y).size} class instead\"\u001b[0m\u001b[1;33m\u001b[0m\u001b[1;33m\u001b[0m\u001b[0m\n\u001b[0;32m    503\u001b[0m         )\n",
      "\u001b[1;31mValueError\u001b[0m: The target 'y' needs to have more than 1 class. Got 1 class instead"
     ]
    }
   ],
   "source": [
    "\n",
    "\n",
    "# imbalanced-learn 패키지\n",
    "from imblearn.over_sampling import SMOTE\n",
    "for i in range(1,15):\n",
    "    # Y_01 정상 비정상을 활용한 정상 비정상 매핑\n",
    "    normal_data = pd.read_csv(\"./normal_data/Y_%02d.csv\"%i)\n",
    "    abnormal_data = pd.read_csv(\"./abnormal_data/Y_%02d.csv\"%i)\n",
    "    normal_data[\"target\"] = 1\n",
    "    abnormal_data[\"target\"] = 0\n",
    "    new_data_Y_01 = pd.concat([normal_data, abnormal_data], ignore_index = True)\n",
    "\n",
    "    import pandas as pd\n",
    "    from sklearn.model_selection import train_test_split\n",
    "\n",
    "\n",
    "    train_df = new_data_Y_01.filter(regex=\"X\")\n",
    "\n",
    "    # train, test 데이터셋 분리\n",
    "    X_train, X_test, y_train, y_test = train_test_split(train_df, new_data_Y_01[\"target\"], \n",
    "                                                        test_size = 0.25, random_state = 32)\n",
    "    # SMOTE 객체 생성\n",
    "    smote = SMOTE(random_state=42)\n",
    "\n",
    "    # 샘플링\n",
    "    X_train, y_train = smote.fit_resample(X_train, y_train)\n",
    "    from xgboost import XGBClassifier\n",
    "\n",
    "    # 모델 선언 예시\n",
    "    model = XGBClassifier(n_estimators=100, learning_rate=0.05, max_depth=2, random_state = 32)\n",
    "    model.fit(X_train, y_train)\n",
    "    from sklearn.metrics import accuracy_score\n",
    "\n",
    "    y_pred = model.predict(X_test) # 예측 라벨(0과 1로 예측)\n",
    "    from sklearn.metrics import confusion_matrix\n",
    "    # cf = confusion_matrix(y_test, y_pred)\n",
    "    cf = confusion_matrix(y_test, y_pred)\n",
    "    print(cf)\n",
    "    # 예측 라벨과 실제 라벨 사이의 정확도 측정\n",
    "    print(\"Y_%02d 정상 비정상 예측\"%i,accuracy_score(y_pred, y_test)*100,\"%\",sep=\",\") # 0.7847533632286996"
   ]
  }
 ],
 "metadata": {
  "kernelspec": {
   "display_name": "Python 3.7.13 ('lg_aimers')",
   "language": "python",
   "name": "python3"
  },
  "language_info": {
   "codemirror_mode": {
    "name": "ipython",
    "version": 3
   },
   "file_extension": ".py",
   "mimetype": "text/x-python",
   "name": "python",
   "nbconvert_exporter": "python",
   "pygments_lexer": "ipython3",
   "version": "3.7.13"
  },
  "orig_nbformat": 4,
  "vscode": {
   "interpreter": {
    "hash": "1a2472b64ab40885d7d7e87e14bc10c61029969926a38ac048ddde5a1b93f748"
   }
  }
 },
 "nbformat": 4,
 "nbformat_minor": 2
}
