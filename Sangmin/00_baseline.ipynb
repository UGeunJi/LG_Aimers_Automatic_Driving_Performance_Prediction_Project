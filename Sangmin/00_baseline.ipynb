{
 "cells": [
  {
   "cell_type": "code",
   "execution_count": 6,
   "id": "c669722a-8579-48c0-9890-dc8b21c33fc1",
   "metadata": {},
   "outputs": [],
   "source": [
    "import pandas as pd\n",
    "import random\n",
    "import os\n",
    "import numpy as np\n",
    "\n",
    "from sklearn.model_selection import train_test_split\n",
    "from sklearn.linear_model import LinearRegression\n",
    "from sklearn.multioutput import MultiOutputRegressor\n",
    "from sklearn import metrics"
   ]
  },
  {
   "cell_type": "code",
   "execution_count": 7,
   "id": "ac6399d6-a1c5-4c56-a697-4b5f8ad61ac8",
   "metadata": {},
   "outputs": [],
   "source": [
    "def seed_everything(seed):\n",
    "    random.seed(seed)\n",
    "    os.environ['PYTHONHASHSEED'] = str(seed)\n",
    "    np.random.seed(seed)\n",
    "seed_everything(42) # Seed 고정"
   ]
  },
  {
   "cell_type": "code",
   "execution_count": 3,
   "id": "8328eba7-cad4-4169-b843-5ae886986289",
   "metadata": {},
   "outputs": [],
   "source": [
    "train_df = pd.read_csv('./train.csv')"
   ]
  },
  {
   "cell_type": "code",
   "execution_count": 4,
   "id": "088cb27c-7a97-441b-bd5c-40473fd7d325",
   "metadata": {},
   "outputs": [],
   "source": [
    "train_x = train_df.filter(regex='X') # Input : X Featrue\n",
    "train_y = train_df.filter(regex='Y') # Output : Y Feature"
   ]
  },
  {
   "cell_type": "code",
   "execution_count": 5,
   "id": "d94f67f1-45ad-4a7e-b0b1-53c070972bd8",
   "metadata": {},
   "outputs": [
    {
     "name": "stdout",
     "output_type": "stream",
     "text": [
      "Done.\n"
     ]
    }
   ],
   "source": [
    "LR = MultiOutputRegressor(LinearRegression()).fit(train_x, train_y)\n",
    "print('Done.')"
   ]
  },
  {
   "cell_type": "code",
   "execution_count": 6,
   "id": "03ae82db-af6e-4a35-b1ba-8eebb261ae4b",
   "metadata": {},
   "outputs": [],
   "source": [
    "test_x = pd.read_csv('./test.csv').drop(columns=['ID'])"
   ]
  },
  {
   "cell_type": "code",
   "execution_count": 7,
   "id": "c6bbe967-106e-41c0-8ba4-ed39a4fc666e",
   "metadata": {},
   "outputs": [
    {
     "name": "stdout",
     "output_type": "stream",
     "text": [
      "Done.\n"
     ]
    }
   ],
   "source": [
    "preds = LR.predict(test_x)\n",
    "print('Done.')"
   ]
  },
  {
   "cell_type": "code",
   "execution_count": 8,
   "id": "d00cfcae-4c44-4c84-8058-bd3730f2bf6c",
   "metadata": {},
   "outputs": [],
   "source": [
    "submit = pd.read_csv('./sample_submission.csv')"
   ]
  },
  {
   "cell_type": "code",
   "execution_count": 9,
   "id": "5595bbb6-4ccd-4688-b2ef-ab2704dbe50e",
   "metadata": {},
   "outputs": [
    {
     "name": "stdout",
     "output_type": "stream",
     "text": [
      "Done.\n"
     ]
    }
   ],
   "source": [
    "for idx, col in enumerate(submit.columns):\n",
    "    if col=='ID':\n",
    "        continue\n",
    "    submit[col] = preds[:,idx-1]\n",
    "print('Done.')"
   ]
  },
  {
   "cell_type": "code",
   "execution_count": 10,
   "id": "3c3174d3-ce6c-437a-b5c1-bbb1f74f0866",
   "metadata": {},
   "outputs": [],
   "source": [
    "# submit.to_csv('./submit.csv', index=False)"
   ]
  },
  {
   "cell_type": "code",
   "execution_count": null,
   "id": "f2e25a77-c3b5-40eb-b7d8-0655b3cc082e",
   "metadata": {},
   "outputs": [],
   "source": []
  },
  {
   "cell_type": "code",
   "execution_count": null,
   "id": "32115aa9-6551-450c-a54e-e2b704e6b185",
   "metadata": {},
   "outputs": [],
   "source": []
  },
  {
   "cell_type": "code",
   "execution_count": 14,
   "id": "edae2a4b-d8cc-4194-8ed5-781766c4e4d7",
   "metadata": {},
   "outputs": [],
   "source": []
  },
  {
   "cell_type": "code",
   "execution_count": 8,
   "id": "53d584ad-8aea-4099-b6a0-6e73b4cbb1e1",
   "metadata": {},
   "outputs": [],
   "source": [
    "def lg_nrmse(gt, preds):\n",
    "    # 각 Y Feature별 NRMSE 총합\n",
    "    # Y_01 ~ Y_08 까지 20% 가중치 부여\n",
    "    all_nrmse = []\n",
    "    for idx in range(14): # ignore 'ID'\n",
    "        rmse = metrics.mean_squared_error(gt[:,idx], preds[:,idx], squared=False)\n",
    "        nrmse = rmse/np.mean(np.abs(gt[:,idx]))\n",
    "        all_nrmse.append(nrmse)\n",
    "    score = 1.2 * np.sum(all_nrmse[:8]) + 1.0 * np.sum(all_nrmse[8:15])\n",
    "    return score"
   ]
  },
  {
   "cell_type": "code",
   "execution_count": 14,
   "id": "bde1d6fd-7038-4b7a-9af5-c9955a2711f5",
   "metadata": {},
   "outputs": [
    {
     "data": {
      "text/plain": [
       "1.9929924217815767"
      ]
     },
     "execution_count": 14,
     "metadata": {},
     "output_type": "execute_result"
    }
   ],
   "source": [
    "df = pd.read_csv('./train.csv')\n",
    "\n",
    "train_df, valid_df = train_test_split(df, train_size=0.8)\n",
    "\n",
    "train_x = train_df.filter(regex='X') # Input : X Featrue\n",
    "train_y = train_df.filter(regex='Y') # Output : Y Feature\n",
    "\n",
    "valid_x = valid_df.filter(regex='X') # Input : X Featrue\n",
    "valid_y = valid_df.filter(regex='Y') # Output : Y Feature\n",
    "\n",
    "test_x = pd.read_csv('./test.csv').drop(columns=['ID'])\n",
    "\n",
    "LR = MultiOutputRegressor(LinearRegression()).fit(train_x, train_y)\n",
    "\n",
    "valid_preds = LR.predict(valid_x)\n",
    "lg_nrmse(valid_y.values, valid_preds)"
   ]
  },
  {
   "cell_type": "code",
   "execution_count": 10,
   "id": "5f68c8af-650e-4907-950f-dff5924acfdf",
   "metadata": {},
   "outputs": [],
   "source": [
    "test_x = pd.read_csv('./test.csv').drop(columns=['ID'])\n",
    "preds = LR.predict(test_x)\n",
    "submit = pd.read_csv('./sample_submission.csv')\n",
    "for idx, col in enumerate(submit.columns):\n",
    "    if col=='ID':\n",
    "        continue\n",
    "    submit[col] = preds[:,idx-1]\n",
    "submit.to_csv('./range_preprocessing.csv', index=False)"
   ]
  },
  {
   "cell_type": "code",
   "execution_count": 13,
   "id": "35a27d1e-5938-4cb3-bef9-71e0ab2583ef",
   "metadata": {},
   "outputs": [
    {
     "data": {
      "text/html": [
       "<div>\n",
       "<style scoped>\n",
       "    .dataframe tbody tr th:only-of-type {\n",
       "        vertical-align: middle;\n",
       "    }\n",
       "\n",
       "    .dataframe tbody tr th {\n",
       "        vertical-align: top;\n",
       "    }\n",
       "\n",
       "    .dataframe thead th {\n",
       "        text-align: right;\n",
       "    }\n",
       "</style>\n",
       "<table border=\"1\" class=\"dataframe\">\n",
       "  <thead>\n",
       "    <tr style=\"text-align: right;\">\n",
       "      <th></th>\n",
       "      <th>0</th>\n",
       "      <th>1</th>\n",
       "      <th>2</th>\n",
       "      <th>3</th>\n",
       "      <th>4</th>\n",
       "      <th>5</th>\n",
       "      <th>6</th>\n",
       "      <th>7</th>\n",
       "      <th>8</th>\n",
       "      <th>9</th>\n",
       "      <th>10</th>\n",
       "      <th>11</th>\n",
       "      <th>12</th>\n",
       "      <th>13</th>\n",
       "    </tr>\n",
       "  </thead>\n",
       "  <tbody>\n",
       "    <tr>\n",
       "      <th>count</th>\n",
       "      <td>39608.000000</td>\n",
       "      <td>39608.000000</td>\n",
       "      <td>39608.000000</td>\n",
       "      <td>39608.000000</td>\n",
       "      <td>39608.000000</td>\n",
       "      <td>39608.000000</td>\n",
       "      <td>39608.000000</td>\n",
       "      <td>39608.000000</td>\n",
       "      <td>39608.000000</td>\n",
       "      <td>39608.000000</td>\n",
       "      <td>39608.000000</td>\n",
       "      <td>39608.000000</td>\n",
       "      <td>39608.000000</td>\n",
       "      <td>39608.000000</td>\n",
       "    </tr>\n",
       "    <tr>\n",
       "      <th>mean</th>\n",
       "      <td>1.333525</td>\n",
       "      <td>1.034667</td>\n",
       "      <td>0.989047</td>\n",
       "      <td>13.718584</td>\n",
       "      <td>31.348808</td>\n",
       "      <td>16.644527</td>\n",
       "      <td>3.148411</td>\n",
       "      <td>-26.269159</td>\n",
       "      <td>-26.282657</td>\n",
       "      <td>-22.352389</td>\n",
       "      <td>24.358498</td>\n",
       "      <td>-26.211964</td>\n",
       "      <td>-26.208323</td>\n",
       "      <td>-26.221036</td>\n",
       "    </tr>\n",
       "    <tr>\n",
       "      <th>std</th>\n",
       "      <td>0.058804</td>\n",
       "      <td>0.067158</td>\n",
       "      <td>0.055265</td>\n",
       "      <td>0.459746</td>\n",
       "      <td>0.372132</td>\n",
       "      <td>0.095647</td>\n",
       "      <td>0.057401</td>\n",
       "      <td>0.157361</td>\n",
       "      <td>0.149712</td>\n",
       "      <td>0.232010</td>\n",
       "      <td>0.103189</td>\n",
       "      <td>0.151055</td>\n",
       "      <td>0.151686</td>\n",
       "      <td>0.150458</td>\n",
       "    </tr>\n",
       "    <tr>\n",
       "      <th>min</th>\n",
       "      <td>0.722527</td>\n",
       "      <td>0.462723</td>\n",
       "      <td>0.537312</td>\n",
       "      <td>8.763135</td>\n",
       "      <td>28.771916</td>\n",
       "      <td>15.738457</td>\n",
       "      <td>2.769825</td>\n",
       "      <td>-27.851366</td>\n",
       "      <td>-27.859793</td>\n",
       "      <td>-23.910278</td>\n",
       "      <td>23.357127</td>\n",
       "      <td>-27.823444</td>\n",
       "      <td>-27.816108</td>\n",
       "      <td>-27.800743</td>\n",
       "    </tr>\n",
       "    <tr>\n",
       "      <th>25%</th>\n",
       "      <td>1.294776</td>\n",
       "      <td>0.990416</td>\n",
       "      <td>0.951360</td>\n",
       "      <td>13.425834</td>\n",
       "      <td>31.109467</td>\n",
       "      <td>16.581900</td>\n",
       "      <td>3.111318</td>\n",
       "      <td>-26.392911</td>\n",
       "      <td>-26.397400</td>\n",
       "      <td>-22.507229</td>\n",
       "      <td>24.290653</td>\n",
       "      <td>-26.328105</td>\n",
       "      <td>-26.325622</td>\n",
       "      <td>-26.335967</td>\n",
       "    </tr>\n",
       "    <tr>\n",
       "      <th>50%</th>\n",
       "      <td>1.332658</td>\n",
       "      <td>1.038451</td>\n",
       "      <td>0.987433</td>\n",
       "      <td>13.687228</td>\n",
       "      <td>31.354103</td>\n",
       "      <td>16.643817</td>\n",
       "      <td>3.148922</td>\n",
       "      <td>-26.257997</td>\n",
       "      <td>-26.274840</td>\n",
       "      <td>-22.320020</td>\n",
       "      <td>24.356561</td>\n",
       "      <td>-26.202287</td>\n",
       "      <td>-26.198435</td>\n",
       "      <td>-26.212280</td>\n",
       "    </tr>\n",
       "    <tr>\n",
       "      <th>75%</th>\n",
       "      <td>1.371831</td>\n",
       "      <td>1.081475</td>\n",
       "      <td>1.025536</td>\n",
       "      <td>13.974681</td>\n",
       "      <td>31.590275</td>\n",
       "      <td>16.706202</td>\n",
       "      <td>3.186205</td>\n",
       "      <td>-26.149058</td>\n",
       "      <td>-26.171849</td>\n",
       "      <td>-22.186978</td>\n",
       "      <td>24.423807</td>\n",
       "      <td>-26.099286</td>\n",
       "      <td>-26.094873</td>\n",
       "      <td>-26.109709</td>\n",
       "    </tr>\n",
       "    <tr>\n",
       "      <th>max</th>\n",
       "      <td>1.622975</td>\n",
       "      <td>1.333523</td>\n",
       "      <td>1.433023</td>\n",
       "      <td>19.771395</td>\n",
       "      <td>34.629456</td>\n",
       "      <td>18.216004</td>\n",
       "      <td>3.622615</td>\n",
       "      <td>-24.818176</td>\n",
       "      <td>-24.823844</td>\n",
       "      <td>-21.227604</td>\n",
       "      <td>25.750111</td>\n",
       "      <td>-24.745805</td>\n",
       "      <td>-24.755745</td>\n",
       "      <td>-24.778878</td>\n",
       "    </tr>\n",
       "  </tbody>\n",
       "</table>\n",
       "</div>"
      ],
      "text/plain": [
       "                 0             1             2             3             4   \\\n",
       "count  39608.000000  39608.000000  39608.000000  39608.000000  39608.000000   \n",
       "mean       1.333525      1.034667      0.989047     13.718584     31.348808   \n",
       "std        0.058804      0.067158      0.055265      0.459746      0.372132   \n",
       "min        0.722527      0.462723      0.537312      8.763135     28.771916   \n",
       "25%        1.294776      0.990416      0.951360     13.425834     31.109467   \n",
       "50%        1.332658      1.038451      0.987433     13.687228     31.354103   \n",
       "75%        1.371831      1.081475      1.025536     13.974681     31.590275   \n",
       "max        1.622975      1.333523      1.433023     19.771395     34.629456   \n",
       "\n",
       "                 5             6             7             8             9   \\\n",
       "count  39608.000000  39608.000000  39608.000000  39608.000000  39608.000000   \n",
       "mean      16.644527      3.148411    -26.269159    -26.282657    -22.352389   \n",
       "std        0.095647      0.057401      0.157361      0.149712      0.232010   \n",
       "min       15.738457      2.769825    -27.851366    -27.859793    -23.910278   \n",
       "25%       16.581900      3.111318    -26.392911    -26.397400    -22.507229   \n",
       "50%       16.643817      3.148922    -26.257997    -26.274840    -22.320020   \n",
       "75%       16.706202      3.186205    -26.149058    -26.171849    -22.186978   \n",
       "max       18.216004      3.622615    -24.818176    -24.823844    -21.227604   \n",
       "\n",
       "                 10            11            12            13  \n",
       "count  39608.000000  39608.000000  39608.000000  39608.000000  \n",
       "mean      24.358498    -26.211964    -26.208323    -26.221036  \n",
       "std        0.103189      0.151055      0.151686      0.150458  \n",
       "min       23.357127    -27.823444    -27.816108    -27.800743  \n",
       "25%       24.290653    -26.328105    -26.325622    -26.335967  \n",
       "50%       24.356561    -26.202287    -26.198435    -26.212280  \n",
       "75%       24.423807    -26.099286    -26.094873    -26.109709  \n",
       "max       25.750111    -24.745805    -24.755745    -24.778878  "
      ]
     },
     "execution_count": 13,
     "metadata": {},
     "output_type": "execute_result"
    }
   ],
   "source": [
    "pd.DataFrame(preds).describe()"
   ]
  },
  {
   "cell_type": "code",
   "execution_count": null,
   "id": "07d70100-72fd-4bc6-9ace-1762627e1c40",
   "metadata": {},
   "outputs": [],
   "source": []
  }
 ],
 "metadata": {
  "kernelspec": {
   "display_name": "Python 3 (ipykernel)",
   "language": "python",
   "name": "python3"
  },
  "language_info": {
   "codemirror_mode": {
    "name": "ipython",
    "version": 3
   },
   "file_extension": ".py",
   "mimetype": "text/x-python",
   "name": "python",
   "nbconvert_exporter": "python",
   "pygments_lexer": "ipython3",
   "version": "3.9.7"
  }
 },
 "nbformat": 4,
 "nbformat_minor": 5
}
