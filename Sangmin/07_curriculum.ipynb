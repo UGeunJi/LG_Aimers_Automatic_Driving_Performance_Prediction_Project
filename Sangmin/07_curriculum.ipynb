{
 "cells": [
  {
   "cell_type": "code",
   "execution_count": 2,
   "id": "051c8837-049f-48db-8424-b0ed366ead52",
   "metadata": {},
   "outputs": [],
   "source": [
    "import pandas as pd\n",
    "import random\n",
    "import os\n",
    "import numpy as np\n",
    "import matplotlib.pyplot as plt\n",
    "\n",
    "from collections import defaultdict\n",
    "\n",
    "from sklearn.model_selection import train_test_split\n",
    "from sklearn.linear_model import LinearRegression\n",
    "from sklearn.multioutput import MultiOutputRegressor, RegressorChain\n",
    "from sklearn import metrics\n",
    "\n",
    "def lg_nrmse(gt, preds):\n",
    "    # 각 Y Feature별 NRMSE 총합\n",
    "    # Y_01 ~ Y_08 까지 20% 가중치 부여\n",
    "    all_nrmse = []\n",
    "    for idx in range(14): # ignore 'ID'\n",
    "        rmse = metrics.mean_squared_error(gt[:,idx], preds[:,idx], squared=False)\n",
    "        nrmse = rmse/np.mean(np.abs(gt[:,idx]))\n",
    "        all_nrmse.append(nrmse)\n",
    "    score = 1.2 * np.sum(all_nrmse[:8]) + 1.0 * np.sum(all_nrmse[8:15])\n",
    "    return score, all_nrmse\n",
    "\n",
    "def train_and_predict_single(df, col, LR):\n",
    "    train_df, valid_df = train_test_split(df, train_size=0.9)\n",
    "\n",
    "    train_x = train_df.filter(regex='X') # Input : X Featrue\n",
    "    train_y = train_df.filter(regex='Y')[col] # Output : Y Feature\n",
    "\n",
    "    valid_x = valid_df.filter(regex='X') # Input : X Featrue\n",
    "    valid_y = valid_df.filter(regex='Y')[col] # Output : Y Feature\n",
    "\n",
    "    LR.fit(train_x, train_y)\n",
    "    valid_preds = LR.predict(valid_x)\n",
    "    \n",
    "    rmse = metrics.mean_squared_error(valid_y, valid_preds, squared=False)\n",
    "    nrmse = rmse/np.mean(np.abs(valid_y))\n",
    "\n",
    "    return nrmse, LR\n",
    "    \n",
    "pd.set_option('display.max_columns', None)"
   ]
  },
  {
   "cell_type": "code",
   "execution_count": 3,
   "id": "4a176858-258f-4b3a-ab1b-cd452678cc64",
   "metadata": {},
   "outputs": [
    {
     "data": {
      "text/plain": [
       "(1.9655100232179565,\n",
       " [0.2582435474168564,\n",
       "  0.35623405201627245,\n",
       "  0.35137871384900543,\n",
       "  0.1929786475739695,\n",
       "  0.0788833308781518,\n",
       "  0.10431327278131991,\n",
       "  0.12979274229765683,\n",
       "  0.024381327714683772,\n",
       "  0.024064556818369425,\n",
       "  0.0393655161086211,\n",
       "  0.03398042315490278,\n",
       "  0.024229125011438087,\n",
       "  0.02421798664989987,\n",
       "  0.024205654041226068])"
      ]
     },
     "execution_count": 3,
     "metadata": {},
     "output_type": "execute_result"
    }
   ],
   "source": [
    "df = pd.read_csv('train.csv')\n",
    "\n",
    "train_df, valid_df = train_test_split(df, train_size=0.9)\n",
    "\n",
    "train_x = train_df.filter(regex='X') # Input : X Featrue\n",
    "train_y = train_df.filter(regex='Y') # Output : Y Feature\n",
    "\n",
    "valid_x = valid_df.filter(regex='X') # Input : X Featrue\n",
    "valid_y = valid_df.filter(regex='Y') # Output : Y Feature\n",
    "\n",
    "LR = MultiOutputRegressor(LinearRegression()).fit(train_x, train_y)\n",
    "\n",
    "valid_preds = LR.predict(valid_x)\n",
    "lg_nrmse(valid_y.values, valid_preds)"
   ]
  },
  {
   "cell_type": "code",
   "execution_count": 25,
   "id": "e35f4149-10aa-487a-a57a-2efe41db4b6e",
   "metadata": {},
   "outputs": [
    {
     "data": {
      "text/plain": [
       "{'Y_01': 1.5391693617021283,\n",
       " 'Y_02': 1.265785815602839,\n",
       " 'Y_03': 1.2455534751773039,\n",
       " 'Y_04': 12.650259574468128,\n",
       " 'Y_05': 30.78323773049641,\n",
       " 'Y_06': 15.492205390070957,\n",
       " 'Y_07': 3.2256451063829763,\n",
       " 'Y_08': -26.525757730496487,\n",
       " 'Y_09': -26.54174014184393,\n",
       " 'Y_10': -22.835638865248253,\n",
       " 'Y_11': 24.01992794326238,\n",
       " 'Y_12': -26.469803404255302,\n",
       " 'Y_13': -26.46407290780134,\n",
       " 'Y_14': -26.476436595744698}"
      ]
     },
     "execution_count": 25,
     "metadata": {},
     "output_type": "execute_result"
    }
   ],
   "source": [
    "col_mean = dict(train_y.describe().loc['mean'])\n",
    "col_mean"
   ]
  },
  {
   "cell_type": "code",
   "execution_count": 26,
   "id": "fc1cf7f5-1252-4394-ac3a-5b46624657ea",
   "metadata": {},
   "outputs": [
    {
     "data": {
      "text/plain": [
       "(3.2213564293338015,\n",
       " {'Y_01': 0.39818953603054263,\n",
       "  'Y_02': 0.47940708690219797,\n",
       "  'Y_03': 0.473848539821713,\n",
       "  'Y_04': 0.42803136239202016,\n",
       "  'Y_05': 0.10978487761312264,\n",
       "  'Y_06': 0.33672932471572875,\n",
       "  'Y_07': 0.2253430190764516,\n",
       "  'Y_08': 0.03190083299212381,\n",
       "  'Y_09': 0.032173779239981264,\n",
       "  'Y_10': 0.07067517441782786,\n",
       "  'Y_11': 0.04910638128229328,\n",
       "  'Y_12': 0.03188952537510668,\n",
       "  'Y_13': 0.032067097540049494,\n",
       "  'Y_14': 0.03194314262428699})"
      ]
     },
     "execution_count": 26,
     "metadata": {},
     "output_type": "execute_result"
    }
   ],
   "source": [
    "cur_level = 30\n",
    "size = len(train_df)\n",
    "rest = size % cur_level\n",
    "final_score = {}\n",
    "for col in valid_y.columns:\n",
    "    LR = LinearRegression()\n",
    "\n",
    "    index = abs(train_df[col] - col_mean[col]).sort_values().index\n",
    "    train_df = train_df.loc[index]\n",
    "    \n",
    "    for level in range(1, cur_level+1):\n",
    "        nxt = size//cur_level*level\n",
    "        train_x = train_df[:nxt].filter(regex='X')\n",
    "        train_y = train_df[:nxt].filter(regex='Y')[col]\n",
    "\n",
    "        LR.fit(train_x, train_y)\n",
    "\n",
    "        valid_preds = LR.predict(valid_x)\n",
    "        rmse = metrics.mean_squared_error(valid_y[col], valid_preds, squared=False)\n",
    "        nrmse = rmse/np.mean(np.abs(valid_y[col]))\n",
    "        # print(col, level, nrmse)\n",
    "    final_score[col] = nrmse\n",
    "sum([v if k in valid_y.columns[7:] else v * 1.2 for k, v in final_score.items()]), final_score"
   ]
  },
  {
   "cell_type": "code",
   "execution_count": 16,
   "id": "44ccd81f-3c03-4ce9-a597-256f5d8d2bbf",
   "metadata": {},
   "outputs": [
    {
     "data": {
      "text/plain": [
       "Index(['Y_08', 'Y_09', 'Y_10', 'Y_11', 'Y_12', 'Y_13', 'Y_14'], dtype='object')"
      ]
     },
     "execution_count": 16,
     "metadata": {},
     "output_type": "execute_result"
    }
   ],
   "source": [
    "valid_y.columns[7:]"
   ]
  },
  {
   "cell_type": "code",
   "execution_count": 5,
   "id": "2e5f7d4d-e8af-42dd-9c24-e8750d0d8de9",
   "metadata": {},
   "outputs": [
    {
     "data": {
      "text/plain": [
       "2305     0.000012\n",
       "25468    0.000012\n",
       "26182    0.000012\n",
       "31631    0.000012\n",
       "22119    0.000012\n",
       "           ...   \n",
       "11175    1.108988\n",
       "15824    1.117988\n",
       "8086     1.126988\n",
       "10984    1.128988\n",
       "2158     1.131988\n",
       "Name: Y_01, Length: 32121, dtype: float64"
      ]
     },
     "execution_count": 5,
     "metadata": {},
     "output_type": "execute_result"
    }
   ],
   "source": [
    "col = 'Y_01'\n",
    "abs(train_df[col] - col_mean[col]).sort_values()"
   ]
  },
  {
   "cell_type": "code",
   "execution_count": 6,
   "id": "1b8cd3b3-e07a-4f39-bc16-d15df9abebc4",
   "metadata": {},
   "outputs": [
    {
     "data": {
      "text/plain": [
       "Int64Index([ 2305, 25468, 26182, 31631, 22119, 16966, 10893, 28329, 25244,\n",
       "            34407,\n",
       "            ...\n",
       "            18414,  1955, 16064, 21960,  8699, 11175, 15824,  8086, 10984,\n",
       "             2158],\n",
       "           dtype='int64', length=32121)"
      ]
     },
     "execution_count": 6,
     "metadata": {},
     "output_type": "execute_result"
    }
   ],
   "source": [
    "abs(train_df[col] - col_mean[col]).sort_values().index"
   ]
  },
  {
   "cell_type": "code",
   "execution_count": 7,
   "id": "700e6752-5ad1-496d-9d65-635760d236ec",
   "metadata": {},
   "outputs": [
    {
     "data": {
      "text/plain": [
       "10103    0.000012\n",
       "19953    0.000012\n",
       "6798     0.000012\n",
       "2626     0.000012\n",
       "563      0.000012\n",
       "           ...   \n",
       "6387     2.195012\n",
       "5331     2.386012\n",
       "5498     2.456012\n",
       "35293    2.747012\n",
       "18805    3.075012\n",
       "Name: Y_01, Length: 39607, dtype: float64"
      ]
     },
     "execution_count": 7,
     "metadata": {},
     "output_type": "execute_result"
    }
   ],
   "source": [
    "test_df = pd.read_csv('train.csv')\n",
    "\n",
    "abs(test_df[col] - col_mean[col]).sort_values()"
   ]
  },
  {
   "cell_type": "code",
   "execution_count": 8,
   "id": "20b5e4e5-f422-4490-b6e1-5550aecd9bbc",
   "metadata": {},
   "outputs": [
    {
     "data": {
      "image/png": "[encoded data removed]",
      "text/plain": [
       "<Figure size 432x288 with 1 Axes>"
      ]
     },
     "metadata": {
      "needs_background": "light"
     },
     "output_type": "display_data"
    }
   ],
   "source": [
    "plt.hist(abs(test_df[col] - col_mean[col]), bins=14 , range=(0, 3.5))\n",
    "plt.show()"
   ]
  },
  {
   "cell_type": "code",
   "execution_count": null,
   "id": "18bf8c77-c89b-4ea7-90f1-84d43b5bbc46",
   "metadata": {},
   "outputs": [],
   "source": []
  }
 ],
 "metadata": {
  "kernelspec": {
   "display_name": "Python 3 (ipykernel)",
   "language": "python",
   "name": "python3"
  },
  "language_info": {
   "codemirror_mode": {
    "name": "ipython",
    "version": 3
   },
   "file_extension": ".py",
   "mimetype": "text/x-python",
   "name": "python",
   "nbconvert_exporter": "python",
   "pygments_lexer": "ipython3",
   "version": "3.9.7"
  }
 },
 "nbformat": 4,
 "nbformat_minor": 5
}
