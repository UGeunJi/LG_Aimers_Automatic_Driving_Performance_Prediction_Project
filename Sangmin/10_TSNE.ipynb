{
 "cells": [
  {
   "cell_type": "code",
   "execution_count": 1,
   "id": "ae62c3ca-de62-4ae3-9b35-32f8e613ff1f",
   "metadata": {},
   "outputs": [
    {
     "data": {
      "text/plain": [
       "(1.9947303849514082,\n",
       " [0.25877475566101377,\n",
       "  0.35947217746674476,\n",
       "  0.3534679773655478,\n",
       "  0.19467927083818445,\n",
       "  0.08093942814929539,\n",
       "  0.11380086847814155,\n",
       "  0.13316968809073867,\n",
       "  0.024531514007744597,\n",
       "  0.02424453954165752,\n",
       "  0.04019191990089526,\n",
       "  0.034329237271388875,\n",
       "  0.024516242394739443,\n",
       "  0.02443178689207567,\n",
       "  0.024413842881758255])"
      ]
     },
     "execution_count": 1,
     "metadata": {},
     "output_type": "execute_result"
    }
   ],
   "source": [
    "import numpy as np\n",
    "import pandas as pd\n",
    "\n",
    "from scipy.spatial.distance import pdist, squareform\n",
    "\n",
    "from sklearn.manifold import TSNE\n",
    "from sklearn.model_selection import train_test_split\n",
    "from sklearn.linear_model import LinearRegression\n",
    "from sklearn.multioutput import MultiOutputRegressor\n",
    "from sklearn import metrics\n",
    "\n",
    "def lg_nrmse(gt, preds):\n",
    "    # 각 Y Feature별 NRMSE 총합\n",
    "    # Y_01 ~ Y_08 까지 20% 가중치 부여\n",
    "    all_nrmse = []\n",
    "    for idx in range(14): # ignore 'ID'\n",
    "        rmse = metrics.mean_squared_error(gt[:,idx], preds[:,idx], squared=False)\n",
    "        nrmse = rmse/np.mean(np.abs(gt[:,idx]))\n",
    "        all_nrmse.append(nrmse)\n",
    "    score = 1.2 * np.sum(all_nrmse[:8]) + 1.0 * np.sum(all_nrmse[8:15])\n",
    "    return score, all_nrmse\n",
    "\n",
    "df = pd.read_csv('train.csv')\n",
    "\n",
    "train_df, valid_df = train_test_split(df, train_size=0.9)\n",
    "\n",
    "train_x = train_df.filter(regex='X') # Input : X Featrue\n",
    "train_y = train_df.filter(regex='Y') # Output : Y Feature\n",
    "\n",
    "valid_x = valid_df.filter(regex='X') # Input : X Featrue\n",
    "valid_y = valid_df.filter(regex='Y') # Output : Y Feature\n",
    "\n",
    "LR = MultiOutputRegressor(LinearRegression()).fit(train_x, train_y)\n",
    "\n",
    "valid_preds = LR.predict(valid_x)\n",
    "lg_nrmse(valid_y.values, valid_preds)"
   ]
  },
  {
   "cell_type": "code",
   "execution_count": 7,
   "id": "0c6de12d-bcb4-497c-9118-b7a40724bdb9",
   "metadata": {},
   "outputs": [
    {
     "name": "stdout",
     "output_type": "stream",
     "text": [
      "1 0.2647578236507528\n",
      "2 0.2641982568365092\n",
      "3 0.2644923632856626\n"
     ]
    },
    {
     "ename": "ValueError",
     "evalue": "'n_components' should be inferior to 4 for the barnes_hut algorithm as it relies on quad-tree or oct-tree.",
     "output_type": "error",
     "traceback": [
      "\u001b[0;31m---------------------------------------------------------------------------\u001b[0m",
      "\u001b[0;31mValueError\u001b[0m                                Traceback (most recent call last)",
      "\u001b[0;32m/tmp/ipykernel_410/3707156131.py\u001b[0m in \u001b[0;36m<module>\u001b[0;34m\u001b[0m\n\u001b[1;32m      1\u001b[0m \u001b[0mcol\u001b[0m \u001b[0;34m=\u001b[0m \u001b[0;34m'Y_01'\u001b[0m\u001b[0;34m\u001b[0m\u001b[0;34m\u001b[0m\u001b[0m\n\u001b[1;32m      2\u001b[0m \u001b[0;32mfor\u001b[0m \u001b[0mn\u001b[0m \u001b[0;32min\u001b[0m \u001b[0mrange\u001b[0m\u001b[0;34m(\u001b[0m\u001b[0;36m1\u001b[0m\u001b[0;34m,\u001b[0m \u001b[0;36m51\u001b[0m\u001b[0;34m)\u001b[0m\u001b[0;34m:\u001b[0m\u001b[0;34m\u001b[0m\u001b[0;34m\u001b[0m\u001b[0m\n\u001b[0;32m----> 3\u001b[0;31m     \u001b[0mtrain_tsne\u001b[0m \u001b[0;34m=\u001b[0m \u001b[0mTSNE\u001b[0m\u001b[0;34m(\u001b[0m\u001b[0mn_components\u001b[0m \u001b[0;34m=\u001b[0m \u001b[0mn\u001b[0m\u001b[0;34m)\u001b[0m\u001b[0;34m.\u001b[0m\u001b[0mfit_transform\u001b[0m\u001b[0;34m(\u001b[0m\u001b[0mtrain_x\u001b[0m\u001b[0;34m)\u001b[0m\u001b[0;34m\u001b[0m\u001b[0;34m\u001b[0m\u001b[0m\n\u001b[0m\u001b[1;32m      4\u001b[0m     \u001b[0mtsne_train_x\u001b[0m \u001b[0;34m=\u001b[0m \u001b[0mpd\u001b[0m\u001b[0;34m.\u001b[0m\u001b[0mDataFrame\u001b[0m\u001b[0;34m(\u001b[0m\u001b[0mtrain_tsne\u001b[0m\u001b[0;34m,\u001b[0m \u001b[0mcolumns\u001b[0m\u001b[0;34m=\u001b[0m\u001b[0;34m[\u001b[0m\u001b[0;34mf'Z_{i}'\u001b[0m \u001b[0;32mfor\u001b[0m \u001b[0mi\u001b[0m \u001b[0;32min\u001b[0m \u001b[0mrange\u001b[0m\u001b[0;34m(\u001b[0m\u001b[0;36m1\u001b[0m\u001b[0;34m,\u001b[0m \u001b[0mn\u001b[0m\u001b[0;34m+\u001b[0m\u001b[0;36m1\u001b[0m\u001b[0;34m)\u001b[0m\u001b[0;34m]\u001b[0m\u001b[0;34m)\u001b[0m\u001b[0;34m\u001b[0m\u001b[0;34m\u001b[0m\u001b[0m\n\u001b[1;32m      5\u001b[0m \u001b[0;34m\u001b[0m\u001b[0m\n",
      "\u001b[0;32m/opt/conda/lib/python3.9/site-packages/sklearn/manifold/_t_sne.py\u001b[0m in \u001b[0;36mfit_transform\u001b[0;34m(self, X, y)\u001b[0m\n\u001b[1;32m    889\u001b[0m             \u001b[0mEmbedding\u001b[0m \u001b[0mof\u001b[0m \u001b[0mthe\u001b[0m \u001b[0mtraining\u001b[0m \u001b[0mdata\u001b[0m \u001b[0;32min\u001b[0m \u001b[0mlow\u001b[0m\u001b[0;34m-\u001b[0m\u001b[0mdimensional\u001b[0m \u001b[0mspace\u001b[0m\u001b[0;34m.\u001b[0m\u001b[0;34m\u001b[0m\u001b[0;34m\u001b[0m\u001b[0m\n\u001b[1;32m    890\u001b[0m         \"\"\"\n\u001b[0;32m--> 891\u001b[0;31m         \u001b[0membedding\u001b[0m \u001b[0;34m=\u001b[0m \u001b[0mself\u001b[0m\u001b[0;34m.\u001b[0m\u001b[0m_fit\u001b[0m\u001b[0;34m(\u001b[0m\u001b[0mX\u001b[0m\u001b[0;34m)\u001b[0m\u001b[0;34m\u001b[0m\u001b[0;34m\u001b[0m\u001b[0m\n\u001b[0m\u001b[1;32m    892\u001b[0m         \u001b[0mself\u001b[0m\u001b[0;34m.\u001b[0m\u001b[0membedding_\u001b[0m \u001b[0;34m=\u001b[0m \u001b[0membedding\u001b[0m\u001b[0;34m\u001b[0m\u001b[0;34m\u001b[0m\u001b[0m\n\u001b[1;32m    893\u001b[0m         \u001b[0;32mreturn\u001b[0m \u001b[0mself\u001b[0m\u001b[0;34m.\u001b[0m\u001b[0membedding_\u001b[0m\u001b[0;34m\u001b[0m\u001b[0;34m\u001b[0m\u001b[0m\n",
      "\u001b[0;32m/opt/conda/lib/python3.9/site-packages/sklearn/manifold/_t_sne.py\u001b[0m in \u001b[0;36m_fit\u001b[0;34m(self, X, skip_num_points)\u001b[0m\n\u001b[1;32m    690\u001b[0m \u001b[0;34m\u001b[0m\u001b[0m\n\u001b[1;32m    691\u001b[0m         \u001b[0;32mif\u001b[0m \u001b[0mself\u001b[0m\u001b[0;34m.\u001b[0m\u001b[0mmethod\u001b[0m \u001b[0;34m==\u001b[0m \u001b[0;34m'barnes_hut'\u001b[0m \u001b[0;32mand\u001b[0m \u001b[0mself\u001b[0m\u001b[0;34m.\u001b[0m\u001b[0mn_components\u001b[0m \u001b[0;34m>\u001b[0m \u001b[0;36m3\u001b[0m\u001b[0;34m:\u001b[0m\u001b[0;34m\u001b[0m\u001b[0;34m\u001b[0m\u001b[0m\n\u001b[0;32m--> 692\u001b[0;31m             raise ValueError(\"'n_components' should be inferior to 4 for the \"\n\u001b[0m\u001b[1;32m    693\u001b[0m                              \u001b[0;34m\"barnes_hut algorithm as it relies on \"\u001b[0m\u001b[0;34m\u001b[0m\u001b[0;34m\u001b[0m\u001b[0m\n\u001b[1;32m    694\u001b[0m                              \"quad-tree or oct-tree.\")\n",
      "\u001b[0;31mValueError\u001b[0m: 'n_components' should be inferior to 4 for the barnes_hut algorithm as it relies on quad-tree or oct-tree."
     ]
    }
   ],
   "source": [
    "col = 'Y_01'\n",
    "for n in range(1, 51): \n",
    "    train_tsne = TSNE(n_components = n).fit_transform(train_x)\n",
    "    tsne_train_x = pd.DataFrame(train_tsne, columns=[f'Z_{i}' for i in range(1, n+1)])\n",
    "    \n",
    "    valid_tsne = TSNE(n_components = n).fit_transform(valid_x)\n",
    "    tsne_valid_x = pd.DataFrame(valid_tsne, columns=[f'Z_{i}' for i in range(1, n+1)])\n",
    "    \n",
    "    LR = LinearRegression().fit(tsne_train_x, train_y[col])\n",
    "    valid_preds = LR.predict(tsne_valid_x)\n",
    "    \n",
    "    rmse = metrics.mean_squared_error(valid_y[col], valid_preds, squared=False)\n",
    "    nrmse = rmse/np.mean(np.abs(valid_y[col]))\n",
    "    \n",
    "    print(n, nrmse)\n",
    "    "
   ]
  },
  {
   "cell_type": "code",
   "execution_count": null,
   "id": "8502121f-9205-4b0d-9831-8b91cc7afa53",
   "metadata": {},
   "outputs": [],
   "source": [
    "col = 'Y_01'\n",
    "for n in range(4, 51): \n",
    "    train_tsne = TSNE(n_components = n, method='exact').fit_transform(train_x)\n",
    "    tsne_train_x = pd.DataFrame(train_tsne, columns=[f'Z_{i}' for i in range(1, n+1)])\n",
    "    \n",
    "    valid_tsne = TSNE(n_components = n, method='exact').fit_transform(valid_x)\n",
    "    tsne_valid_x = pd.DataFrame(valid_tsne, columns=[f'Z_{i}' for i in range(1, n+1)])\n",
    "    \n",
    "    LR = LinearRegression().fit(tsne_train_x, train_y[col])\n",
    "    valid_preds = LR.predict(tsne_valid_x)\n",
    "    \n",
    "    rmse = metrics.mean_squared_error(valid_y[col], valid_preds, squared=False)\n",
    "    nrmse = rmse/np.mean(np.abs(valid_y[col]))\n",
    "    \n",
    "    print(n, nrmse)\n",
    "    \n"
   ]
  },
  {
   "cell_type": "code",
   "execution_count": null,
   "id": "ff0b5b9f-e67d-4fd6-96b2-01d54ed1a2bc",
   "metadata": {},
   "outputs": [],
   "source": []
  }
 ],
 "metadata": {
  "kernelspec": {
   "display_name": "Python 3 (ipykernel)",
   "language": "python",
   "name": "python3"
  },
  "language_info": {
   "codemirror_mode": {
    "name": "ipython",
    "version": 3
   },
   "file_extension": ".py",
   "mimetype": "text/x-python",
   "name": "python",
   "nbconvert_exporter": "python",
   "pygments_lexer": "ipython3",
   "version": "3.9.7"
  }
 },
 "nbformat": 4,
 "nbformat_minor": 5
}
